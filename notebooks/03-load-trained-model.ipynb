{
 "cells": [
  {
   "cell_type": "code",
   "execution_count": 1,
   "metadata": {},
   "outputs": [],
   "source": [
    "%load_ext autoreload\n",
    "%matplotlib inline\n",
    "\n",
    "%autoreload 2\n",
    "\n",
    "# %load_ext watermark\n",
    "# %watermark -v -n -m -p numpy,scipy,sklearn,pandas,tensorflow,keras\n",
    "\n"
   ]
  },
  {
   "cell_type": "code",
   "execution_count": 15,
   "metadata": {},
   "outputs": [],
   "source": [
    "import json\n",
    "import numpy as np\n",
    "\n",
    "np.random.seed(1)\n",
    "config_file_path = 'configs/example-config.json'\n",
    "input_data_dir = 'data/raw/r252-corpus-features/org/elasticsearch/action/admin'\n",
    "# trained_model_dir = 'trained_models/cnn_attention/elasticsearch_with_no_tests/2019-03-08-15-55'\n",
    "with open(config_file_path, 'r') as fp:\n",
    "    hyperparameters = json.load(fp)\n"
   ]
  },
  {
   "cell_type": "code",
   "execution_count": 16,
   "metadata": {
    "collapsed": false
   },
   "outputs": [
    {
     "name": "stdout",
     "output_type": "stream",
     "text": [
      "Total # files: 377\nTraining Data: 236, Testing Data: 114, Validating data: 27\n"
     ]
    }
   ],
   "source": [
    "from models.complete_models import CnnAttentionModel\n",
    "from run_model import load_train_test_validate_dataset\n",
    "\n",
    "datasets_preprocessors = load_train_test_validate_dataset(hyperparameters, input_data_dir)\n"
   ]
  },
  {
   "cell_type": "code",
   "execution_count": 17,
   "metadata": {
    "collapsed": true
   },
   "outputs": [
    {
     "name": "stdout",
     "output_type": "stream",
     "text": [
      "Train on 255 samples, validate on 15 samples\nWARNING:tensorflow:From /home/samialab/anaconda3/envs/method-name-prediction/lib/python3.6/site-packages/tensorflow/python/ops/math_ops.py:3066: to_int32 (from tensorflow.python.ops.math_ops) is deprecated and will be removed in a future version.\nInstructions for updating:\nUse tf.cast instead.\n"
     ]
    },
    {
     "name": "stdout",
     "output_type": "stream",
     "text": [
      "Epoch 1/50\n"
     ]
    },
    {
     "name": "stdout",
     "output_type": "stream",
     "text": [
      "\nEpoch 00001: val_acc improved from -inf to 0.89067, saving model to trained_models/cnn_attention/elasticsearch_small_overfit_tests/2019-03-09-13-07/weights-01-0.89.hdf5\n - 7s - loss: 2.7731 - acc: 0.7573 - val_loss: 0.7261 - val_acc: 0.8907\n"
     ]
    },
    {
     "name": "stdout",
     "output_type": "stream",
     "text": [
      "Epoch 2/50\n"
     ]
    },
    {
     "name": "stdout",
     "output_type": "stream",
     "text": [
      "\nEpoch 00002: val_acc did not improve from 0.89067\n - 6s - loss: 0.7190 - acc: 0.8956 - val_loss: 0.5934 - val_acc: 0.8907\n"
     ]
    },
    {
     "name": "stdout",
     "output_type": "stream",
     "text": [
      "Epoch 3/50\n"
     ]
    },
    {
     "name": "stdout",
     "output_type": "stream",
     "text": [
      "\nEpoch 00003: val_acc did not improve from 0.89067\n - 5s - loss: 0.6155 - acc: 0.8960 - val_loss: 0.5716 - val_acc: 0.8907\n"
     ]
    },
    {
     "name": "stdout",
     "output_type": "stream",
     "text": [
      "Epoch 4/50\n"
     ]
    },
    {
     "name": "stdout",
     "output_type": "stream",
     "text": [
      "\nEpoch 00004: val_acc did not improve from 0.89067\n - 6s - loss: 0.5709 - acc: 0.8968 - val_loss: 0.5618 - val_acc: 0.8907\n"
     ]
    },
    {
     "name": "stdout",
     "output_type": "stream",
     "text": [
      "Epoch 5/50\n"
     ]
    },
    {
     "name": "stdout",
     "output_type": "stream",
     "text": [
      "\nEpoch 00005: val_acc did not improve from 0.89067\n - 6s - loss: 0.5434 - acc: 0.8965 - val_loss: 0.5609 - val_acc: 0.8907\n"
     ]
    },
    {
     "name": "stdout",
     "output_type": "stream",
     "text": [
      "Epoch 6/50\n"
     ]
    },
    {
     "name": "stdout",
     "output_type": "stream",
     "text": [
      "\nEpoch 00006: val_acc did not improve from 0.89067\n - 6s - loss: 0.5133 - acc: 0.8975 - val_loss: 0.5584 - val_acc: 0.8893\n"
     ]
    },
    {
     "name": "stdout",
     "output_type": "stream",
     "text": [
      "Epoch 7/50\n"
     ]
    },
    {
     "name": "stdout",
     "output_type": "stream",
     "text": [
      "\nEpoch 00007: val_acc improved from 0.89067 to 0.89467, saving model to trained_models/cnn_attention/elasticsearch_small_overfit_tests/2019-03-09-13-07/weights-07-0.89.hdf5\n - 5s - loss: 0.4834 - acc: 0.9016 - val_loss: 0.5365 - val_acc: 0.8947\n"
     ]
    },
    {
     "name": "stdout",
     "output_type": "stream",
     "text": [
      "Epoch 8/50\n"
     ]
    },
    {
     "name": "stdout",
     "output_type": "stream",
     "text": [
      "\nEpoch 00008: val_acc improved from 0.89467 to 0.89600, saving model to trained_models/cnn_attention/elasticsearch_small_overfit_tests/2019-03-09-13-07/weights-08-0.90.hdf5\n - 5s - loss: 0.4555 - acc: 0.9053 - val_loss: 0.5264 - val_acc: 0.8960\n"
     ]
    },
    {
     "name": "stdout",
     "output_type": "stream",
     "text": [
      "Epoch 9/50\n"
     ]
    },
    {
     "name": "stdout",
     "output_type": "stream",
     "text": [
      "\nEpoch 00009: val_acc improved from 0.89600 to 0.89733, saving model to trained_models/cnn_attention/elasticsearch_small_overfit_tests/2019-03-09-13-07/weights-09-0.90.hdf5\n - 6s - loss: 0.4357 - acc: 0.9086 - val_loss: 0.5245 - val_acc: 0.8973\n"
     ]
    },
    {
     "name": "stdout",
     "output_type": "stream",
     "text": [
      "Epoch 10/50\n"
     ]
    },
    {
     "name": "stdout",
     "output_type": "stream",
     "text": [
      "\nEpoch 00010: val_acc improved from 0.89733 to 0.90267, saving model to trained_models/cnn_attention/elasticsearch_small_overfit_tests/2019-03-09-13-07/weights-10-0.90.hdf5\n - 6s - loss: 0.4142 - acc: 0.9133 - val_loss: 0.5058 - val_acc: 0.9027\n"
     ]
    },
    {
     "name": "stdout",
     "output_type": "stream",
     "text": [
      "Epoch 11/50\n"
     ]
    },
    {
     "name": "stdout",
     "output_type": "stream",
     "text": [
      "\nEpoch 00011: val_acc did not improve from 0.90267\n - 6s - loss: 0.3924 - acc: 0.9154 - val_loss: 0.5156 - val_acc: 0.9027\n"
     ]
    },
    {
     "name": "stdout",
     "output_type": "stream",
     "text": [
      "Epoch 12/50\n"
     ]
    },
    {
     "name": "stdout",
     "output_type": "stream",
     "text": [
      "\nEpoch 00012: val_acc improved from 0.90267 to 0.90667, saving model to trained_models/cnn_attention/elasticsearch_small_overfit_tests/2019-03-09-13-07/weights-12-0.91.hdf5\n - 6s - loss: 0.3639 - acc: 0.9183 - val_loss: 0.4764 - val_acc: 0.9067\n"
     ]
    },
    {
     "name": "stdout",
     "output_type": "stream",
     "text": [
      "Epoch 13/50\n"
     ]
    },
    {
     "name": "stdout",
     "output_type": "stream",
     "text": [
      "\nEpoch 00013: val_acc did not improve from 0.90667\n - 6s - loss: 0.3517 - acc: 0.9205 - val_loss: 0.4748 - val_acc: 0.9027\n"
     ]
    },
    {
     "name": "stdout",
     "output_type": "stream",
     "text": [
      "Epoch 14/50\n"
     ]
    },
    {
     "name": "stdout",
     "output_type": "stream",
     "text": [
      "\nEpoch 00014: val_acc did not improve from 0.90667\n - 6s - loss: 0.3290 - acc: 0.9229 - val_loss: 0.4603 - val_acc: 0.9040\n"
     ]
    },
    {
     "name": "stdout",
     "output_type": "stream",
     "text": [
      "Epoch 15/50\n"
     ]
    },
    {
     "name": "stdout",
     "output_type": "stream",
     "text": [
      "\nEpoch 00015: val_acc improved from 0.90667 to 0.90933, saving model to trained_models/cnn_attention/elasticsearch_small_overfit_tests/2019-03-09-13-07/weights-15-0.91.hdf5\n - 5s - loss: 0.3019 - acc: 0.9253 - val_loss: 0.4529 - val_acc: 0.9093\n"
     ]
    },
    {
     "name": "stdout",
     "output_type": "stream",
     "text": [
      "Epoch 16/50\n"
     ]
    },
    {
     "name": "stdout",
     "output_type": "stream",
     "text": [
      "\nEpoch 00016: val_acc did not improve from 0.90933\n - 5s - loss: 0.2852 - acc: 0.9282 - val_loss: 0.4437 - val_acc: 0.9053\n"
     ]
    },
    {
     "name": "stdout",
     "output_type": "stream",
     "text": [
      "Epoch 17/50\n"
     ]
    },
    {
     "name": "stdout",
     "output_type": "stream",
     "text": [
      "\nEpoch 00017: val_acc did not improve from 0.90933\n - 6s - loss: 0.2673 - acc: 0.9308 - val_loss: 0.4177 - val_acc: 0.9053\n"
     ]
    },
    {
     "name": "stdout",
     "output_type": "stream",
     "text": [
      "Epoch 18/50\n"
     ]
    },
    {
     "name": "stdout",
     "output_type": "stream",
     "text": [
      "\nEpoch 00018: val_acc improved from 0.90933 to 0.91600, saving model to trained_models/cnn_attention/elasticsearch_small_overfit_tests/2019-03-09-13-07/weights-18-0.92.hdf5\n - 5s - loss: 0.2476 - acc: 0.9341 - val_loss: 0.4208 - val_acc: 0.9160\n"
     ]
    },
    {
     "name": "stdout",
     "output_type": "stream",
     "text": [
      "Epoch 19/50\n"
     ]
    },
    {
     "name": "stdout",
     "output_type": "stream",
     "text": [
      "\nEpoch 00019: val_acc did not improve from 0.91600\n - 6s - loss: 0.2359 - acc: 0.9354 - val_loss: 0.4013 - val_acc: 0.9120\n"
     ]
    },
    {
     "name": "stdout",
     "output_type": "stream",
     "text": [
      "Epoch 20/50\n"
     ]
    },
    {
     "name": "stdout",
     "output_type": "stream",
     "text": [
      "\nEpoch 00020: val_acc did not improve from 0.91600\n - 5s - loss: 0.2149 - acc: 0.9386 - val_loss: 0.3992 - val_acc: 0.9067\n"
     ]
    },
    {
     "name": "stdout",
     "output_type": "stream",
     "text": [
      "Epoch 21/50\n"
     ]
    },
    {
     "name": "stdout",
     "output_type": "stream",
     "text": [
      "\nEpoch 00021: val_acc did not improve from 0.91600\n - 5s - loss: 0.2038 - acc: 0.9406 - val_loss: 0.4482 - val_acc: 0.9120\n"
     ]
    },
    {
     "name": "stdout",
     "output_type": "stream",
     "text": [
      "Epoch 22/50\n"
     ]
    },
    {
     "name": "stdout",
     "output_type": "stream",
     "text": [
      "\nEpoch 00022: val_acc did not improve from 0.91600\n - 5s - loss: 0.2075 - acc: 0.9383 - val_loss: 0.3909 - val_acc: 0.9120\n"
     ]
    },
    {
     "name": "stdout",
     "output_type": "stream",
     "text": [
      "Epoch 23/50\n"
     ]
    },
    {
     "name": "stdout",
     "output_type": "stream",
     "text": [
      "\nEpoch 00023: val_acc improved from 0.91600 to 0.91733, saving model to trained_models/cnn_attention/elasticsearch_small_overfit_tests/2019-03-09-13-07/weights-23-0.92.hdf5\n - 5s - loss: 0.1940 - acc: 0.9421 - val_loss: 0.3690 - val_acc: 0.9173\n"
     ]
    },
    {
     "name": "stdout",
     "output_type": "stream",
     "text": [
      "Epoch 24/50\n"
     ]
    },
    {
     "name": "stdout",
     "output_type": "stream",
     "text": [
      "\nEpoch 00024: val_acc did not improve from 0.91733\n - 6s - loss: 0.1908 - acc: 0.9439 - val_loss: 0.3684 - val_acc: 0.9160\n"
     ]
    },
    {
     "name": "stdout",
     "output_type": "stream",
     "text": [
      "Epoch 25/50\n"
     ]
    },
    {
     "name": "stdout",
     "output_type": "stream",
     "text": [
      "\nEpoch 00025: val_acc improved from 0.91733 to 0.91867, saving model to trained_models/cnn_attention/elasticsearch_small_overfit_tests/2019-03-09-13-07/weights-25-0.92.hdf5\n - 6s - loss: 0.1754 - acc: 0.9467 - val_loss: 0.3657 - val_acc: 0.9187\n"
     ]
    },
    {
     "name": "stdout",
     "output_type": "stream",
     "text": [
      "Epoch 26/50\n"
     ]
    },
    {
     "name": "stdout",
     "output_type": "stream",
     "text": [
      "\nEpoch 00026: val_acc improved from 0.91867 to 0.92133, saving model to trained_models/cnn_attention/elasticsearch_small_overfit_tests/2019-03-09-13-07/weights-26-0.92.hdf5\n - 6s - loss: 0.1688 - acc: 0.9487 - val_loss: 0.3423 - val_acc: 0.9213\n"
     ]
    },
    {
     "name": "stdout",
     "output_type": "stream",
     "text": [
      "Epoch 27/50\n"
     ]
    },
    {
     "name": "stdout",
     "output_type": "stream",
     "text": [
      "\nEpoch 00027: val_acc improved from 0.92133 to 0.92533, saving model to trained_models/cnn_attention/elasticsearch_small_overfit_tests/2019-03-09-13-07/weights-27-0.93.hdf5\n - 6s - loss: 0.1614 - acc: 0.9506 - val_loss: 0.3420 - val_acc: 0.9253\n"
     ]
    },
    {
     "name": "stdout",
     "output_type": "stream",
     "text": [
      "Epoch 28/50\n"
     ]
    },
    {
     "name": "stdout",
     "output_type": "stream",
     "text": [
      "\nEpoch 00028: val_acc did not improve from 0.92533\n - 6s - loss: 0.1612 - acc: 0.9506 - val_loss: 0.3452 - val_acc: 0.9227\n"
     ]
    },
    {
     "name": "stdout",
     "output_type": "stream",
     "text": [
      "Epoch 29/50\n"
     ]
    },
    {
     "name": "stdout",
     "output_type": "stream",
     "text": [
      "\nEpoch 00029: val_acc did not improve from 0.92533\n - 5s - loss: 0.1455 - acc: 0.9540 - val_loss: 0.3538 - val_acc: 0.9227\n"
     ]
    },
    {
     "name": "stdout",
     "output_type": "stream",
     "text": [
      "Epoch 30/50\n"
     ]
    },
    {
     "name": "stdout",
     "output_type": "stream",
     "text": [
      "\nEpoch 00030: val_acc did not improve from 0.92533\n - 5s - loss: 0.1524 - acc: 0.9536 - val_loss: 0.3375 - val_acc: 0.9240\n"
     ]
    },
    {
     "name": "stdout",
     "output_type": "stream",
     "text": [
      "Epoch 31/50\n"
     ]
    },
    {
     "name": "stdout",
     "output_type": "stream",
     "text": [
      "\nEpoch 00031: val_acc did not improve from 0.92533\n - 6s - loss: 0.1520 - acc: 0.9538 - val_loss: 0.3475 - val_acc: 0.9227\n"
     ]
    },
    {
     "name": "stdout",
     "output_type": "stream",
     "text": [
      "Epoch 32/50\n"
     ]
    },
    {
     "name": "stdout",
     "output_type": "stream",
     "text": [
      "\nEpoch 00032: val_acc did not improve from 0.92533\n - 6s - loss: 0.1456 - acc: 0.9554 - val_loss: 0.3520 - val_acc: 0.9240\n"
     ]
    },
    {
     "name": "stdout",
     "output_type": "stream",
     "text": [
      "Epoch 33/50\n"
     ]
    },
    {
     "name": "stdout",
     "output_type": "stream",
     "text": [
      "\nEpoch 00033: val_acc did not improve from 0.92533\n - 6s - loss: 0.1353 - acc: 0.9570 - val_loss: 0.3463 - val_acc: 0.9253\n"
     ]
    },
    {
     "name": "stdout",
     "output_type": "stream",
     "text": [
      "Epoch 34/50\n"
     ]
    },
    {
     "name": "stdout",
     "output_type": "stream",
     "text": [
      "\nEpoch 00034: val_acc improved from 0.92533 to 0.92933, saving model to trained_models/cnn_attention/elasticsearch_small_overfit_tests/2019-03-09-13-07/weights-34-0.93.hdf5\n - 7s - loss: 0.1298 - acc: 0.9584 - val_loss: 0.3458 - val_acc: 0.9293\n"
     ]
    },
    {
     "name": "stdout",
     "output_type": "stream",
     "text": [
      "Epoch 35/50\n"
     ]
    },
    {
     "name": "stdout",
     "output_type": "stream",
     "text": [
      "\nEpoch 00035: val_acc did not improve from 0.92933\n - 6s - loss: 0.1259 - acc: 0.9609 - val_loss: 0.3721 - val_acc: 0.9227\n"
     ]
    },
    {
     "name": "stdout",
     "output_type": "stream",
     "text": [
      "Epoch 36/50\n"
     ]
    },
    {
     "name": "stdout",
     "output_type": "stream",
     "text": [
      "\nEpoch 00036: val_acc did not improve from 0.92933\n - 6s - loss: 0.1206 - acc: 0.9623 - val_loss: 0.3464 - val_acc: 0.9253\n"
     ]
    },
    {
     "name": "stdout",
     "output_type": "stream",
     "text": [
      "Epoch 37/50\n"
     ]
    },
    {
     "name": "stdout",
     "output_type": "stream",
     "text": [
      "\nEpoch 00037: val_acc did not improve from 0.92933\n - 6s - loss: 0.1185 - acc: 0.9647 - val_loss: 0.3542 - val_acc: 0.9280\n"
     ]
    },
    {
     "name": "stdout",
     "output_type": "stream",
     "text": [
      "Epoch 38/50\n"
     ]
    },
    {
     "name": "stdout",
     "output_type": "stream",
     "text": [
      "\nEpoch 00038: val_acc did not improve from 0.92933\n - 5s - loss: 0.1132 - acc: 0.9641 - val_loss: 0.3645 - val_acc: 0.9227\n"
     ]
    },
    {
     "name": "stdout",
     "output_type": "stream",
     "text": [
      "Epoch 39/50\n"
     ]
    },
    {
     "name": "stdout",
     "output_type": "stream",
     "text": [
      "\nEpoch 00039: val_acc did not improve from 0.92933\n - 6s - loss: 0.1083 - acc: 0.9676 - val_loss: 0.3686 - val_acc: 0.9280\n"
     ]
    },
    {
     "name": "stdout",
     "output_type": "stream",
     "text": [
      "Epoch 40/50\n"
     ]
    },
    {
     "name": "stdout",
     "output_type": "stream",
     "text": [
      "\nEpoch 00040: val_acc did not improve from 0.92933\n - 6s - loss: 0.1048 - acc: 0.9675 - val_loss: 0.3634 - val_acc: 0.9280\n"
     ]
    },
    {
     "name": "stdout",
     "output_type": "stream",
     "text": [
      "Epoch 41/50\n"
     ]
    },
    {
     "name": "stdout",
     "output_type": "stream",
     "text": [
      "\nEpoch 00041: val_acc did not improve from 0.92933\n - 6s - loss: 0.1065 - acc: 0.9652 - val_loss: 0.4116 - val_acc: 0.9253\n"
     ]
    },
    {
     "name": "stdout",
     "output_type": "stream",
     "text": [
      "Epoch 42/50\n"
     ]
    },
    {
     "name": "stdout",
     "output_type": "stream",
     "text": [
      "\nEpoch 00042: val_acc improved from 0.92933 to 0.93067, saving model to trained_models/cnn_attention/elasticsearch_small_overfit_tests/2019-03-09-13-07/weights-42-0.93.hdf5\n - 6s - loss: 0.1270 - acc: 0.9584 - val_loss: 0.3658 - val_acc: 0.9307\n"
     ]
    },
    {
     "name": "stdout",
     "output_type": "stream",
     "text": [
      "Epoch 43/50\n"
     ]
    },
    {
     "name": "stdout",
     "output_type": "stream",
     "text": [
      "\nEpoch 00043: val_acc did not improve from 0.93067\n - 6s - loss: 0.1161 - acc: 0.9631 - val_loss: 0.3493 - val_acc: 0.9307\n"
     ]
    },
    {
     "name": "stdout",
     "output_type": "stream",
     "text": [
      "Epoch 44/50\n"
     ]
    },
    {
     "name": "stdout",
     "output_type": "stream",
     "text": [
      "\nEpoch 00044: val_acc did not improve from 0.93067\n - 6s - loss: 0.1016 - acc: 0.9668 - val_loss: 0.3670 - val_acc: 0.9280\n"
     ]
    },
    {
     "name": "stdout",
     "output_type": "stream",
     "text": [
      "Epoch 45/50\n"
     ]
    },
    {
     "name": "stdout",
     "output_type": "stream",
     "text": [
      "\nEpoch 00045: val_acc improved from 0.93067 to 0.93333, saving model to trained_models/cnn_attention/elasticsearch_small_overfit_tests/2019-03-09-13-07/weights-45-0.93.hdf5\n - 5s - loss: 0.0962 - acc: 0.9696 - val_loss: 0.3528 - val_acc: 0.9333\n"
     ]
    },
    {
     "name": "stdout",
     "output_type": "stream",
     "text": [
      "Epoch 46/50\n"
     ]
    },
    {
     "name": "stdout",
     "output_type": "stream",
     "text": [
      "\nEpoch 00046: val_acc did not improve from 0.93333\n - 5s - loss: 0.0889 - acc: 0.9729 - val_loss: 0.3464 - val_acc: 0.9333\n"
     ]
    },
    {
     "name": "stdout",
     "output_type": "stream",
     "text": [
      "Epoch 47/50\n"
     ]
    },
    {
     "name": "stdout",
     "output_type": "stream",
     "text": [
      "\nEpoch 00047: val_acc did not improve from 0.93333\n - 5s - loss: 0.0874 - acc: 0.9723 - val_loss: 0.4200 - val_acc: 0.9213\n"
     ]
    },
    {
     "name": "stdout",
     "output_type": "stream",
     "text": [
      "Epoch 48/50\n"
     ]
    },
    {
     "name": "stdout",
     "output_type": "stream",
     "text": [
      "\nEpoch 00048: val_acc did not improve from 0.93333\n - 5s - loss: 0.0907 - acc: 0.9717 - val_loss: 0.3605 - val_acc: 0.9307\n"
     ]
    },
    {
     "name": "stdout",
     "output_type": "stream",
     "text": [
      "Epoch 49/50\n"
     ]
    },
    {
     "name": "stdout",
     "output_type": "stream",
     "text": [
      "\nEpoch 00049: val_acc did not improve from 0.93333\n - 6s - loss: 0.0884 - acc: 0.9720 - val_loss: 0.3647 - val_acc: 0.9333\n"
     ]
    },
    {
     "name": "stdout",
     "output_type": "stream",
     "text": [
      "Epoch 50/50\n"
     ]
    },
    {
     "name": "stdout",
     "output_type": "stream",
     "text": [
      "\nEpoch 00050: val_acc did not improve from 0.93333\n - 5s - loss: 0.0872 - acc: 0.9724 - val_loss: 0.3683 - val_acc: 0.9280\n"
     ]
    },
    {
     "data": {
      "image/png": "[encoded data removed]",
      "text/plain": [
       "<Figure size 432x288 with 1 Axes>"
      ]
     },
     "metadata": {},
     "output_type": "display_data"
    }
   ],
   "source": [
    "cnn_model = CnnAttentionModel(hyperparameters, datasets_preprocessors)\n"
   ]
  },
  {
   "cell_type": "code",
   "execution_count": 29,
   "metadata": {
    "collapsed": true
   },
   "outputs": [
    {
     "name": "stdout",
     "output_type": "stream",
     "text": [
      "in beam search\n"
     ]
    },
    {
     "name": "stdout",
     "output_type": "stream",
     "text": [
      "Before: [[ 11  59  46 ...  -1  -1  -1]\n [ 11 319 121 ...  -1  -1  -1]\n [ 11   0  12 ...  -1  -1  -1]\n ...\n [ 11 384   0 ...  -1  -1  -1]\n [ 11 105  12 ...  -1  -1  -1]\n [ 11 279  12 ...  -1  -1  -1]]\nAfter: [11 59 46 ... -1 -1 -1]\nBefore: [[ 11  59  46 ...  -1  -1  -1]\n [ 11 319 121 ...  -1  -1  -1]\n [ 11   0  12 ...  -1  -1  -1]\n ...\n [ 11 170 354 ...  -1  -1  -1]\n [ 11  12   0 ...  -1  -1  -1]\n [ 11  46 279 ...  -1  -1  -1]]\nAfter: [11 59 46 ... -1 -1 -1]\nBefore: [[ 11  59  46 ...  -1  -1  -1]\n [ 11 319 121 ...  -1  -1  -1]\n [ 11   0  -1 ...  -1  -1  -1]\n ...\n [ 11 170 476 ...  -1  -1  -1]\n [ 11 222  12 ...  -1  -1  -1]\n [ 11 279  41 ...  -1  -1  -1]]\nAfter: [11 59 46 ... -1 -1 -1]\nBefore: [[ 11  59 279 ...  -1  -1  -1]\n [ 11 319 121 ...  -1  -1  -1]\n [ 11   0  12 ...  -1  -1  -1]\n ...\n [ 11 170 303 ...  -1  -1  -1]\n [ 11  47  12 ...  -1  -1  -1]\n [ 11 279  12 ...  -1  -1  -1]]\nAfter: [ 11  59 279 ...  -1  -1  -1]\nBefore: [[ 11  59  46 ...  -1  -1  -1]\n [ 11 319 121 ...  -1  -1  -1]\n [ 11   0  12 ...  -1  -1  -1]\n ...\n [ 11 384  12 ...  -1  -1  -1]\n [ 11 105 222 ...  -1  -1  -1]\n [ 11 279  12 ...  -1  -1  -1]]\nAfter: [11 59 46 ... -1 -1 -1]\n"
     ]
    },
    {
     "ename": "TypeError",
     "evalue": "Using a `tf.Tensor` as a Python `bool` is not allowed. Use `if t is not None:` instead of `if t:` to test if a tensor is defined, and use TensorFlow ops such as tf.cond to execute subgraphs conditioned on the value of a tensor.",
     "traceback": [
      "\u001b[0;31m---------------------------------------------------------------------------\u001b[0m",
      "\u001b[0;31mTypeError\u001b[0m                                 Traceback (most recent call last)",
      "\u001b[0;32m<ipython-input-29-e30e00ec4680>\u001b[0m in \u001b[0;36m<module>\u001b[0;34m\u001b[0m\n\u001b[0;32m----> 1\u001b[0;31m \u001b[0mcnn_model\u001b[0m\u001b[0;34m.\u001b[0m\u001b[0mevaluate_f1\u001b[0m\u001b[0;34m(\u001b[0m\u001b[0;34m)\u001b[0m\u001b[0;34m\u001b[0m\u001b[0;34m\u001b[0m\u001b[0m\n\u001b[0m",
      "\u001b[0;32m~/Projects/r252/method-name-prediction/src/models/complete_models.py\u001b[0m in \u001b[0;36mevaluate_f1\u001b[0;34m(self)\u001b[0m\n\u001b[1;32m     55\u001b[0m                                     \u001b[0mtesting_body_subtokens\u001b[0m\u001b[0;34m,\u001b[0m\u001b[0;34m\u001b[0m\u001b[0;34m\u001b[0m\u001b[0m\n\u001b[1;32m     56\u001b[0m                                     \u001b[0mtesting_method_name_subtokens\u001b[0m\u001b[0;34m,\u001b[0m\u001b[0;34m\u001b[0m\u001b[0;34m\u001b[0m\u001b[0m\n\u001b[0;32m---> 57\u001b[0;31m                                     self.hyperparameters['beam_search_config'])\n\u001b[0m\u001b[1;32m     58\u001b[0m         \u001b[0;32mwith\u001b[0m \u001b[0mopen\u001b[0m\u001b[0;34m(\u001b[0m\u001b[0;34m'{}/results.txt'\u001b[0m\u001b[0;34m.\u001b[0m\u001b[0mformat\u001b[0m\u001b[0;34m(\u001b[0m\u001b[0mself\u001b[0m\u001b[0;34m.\u001b[0m\u001b[0mdirectory\u001b[0m\u001b[0;34m)\u001b[0m\u001b[0;34m,\u001b[0m \u001b[0;34m'w'\u001b[0m\u001b[0;34m)\u001b[0m \u001b[0;32mas\u001b[0m \u001b[0mfp\u001b[0m\u001b[0;34m:\u001b[0m\u001b[0;34m\u001b[0m\u001b[0;34m\u001b[0m\u001b[0m\n\u001b[1;32m     59\u001b[0m             \u001b[0mfp\u001b[0m\u001b[0;34m.\u001b[0m\u001b[0mwrite\u001b[0m\u001b[0;34m(\u001b[0m\u001b[0mstr\u001b[0m\u001b[0;34m(\u001b[0m\u001b[0mf1_evaluation\u001b[0m\u001b[0;34m)\u001b[0m\u001b[0;34m)\u001b[0m\u001b[0;34m\u001b[0m\u001b[0;34m\u001b[0m\u001b[0m\n",
      "\u001b[0;32m~/Projects/r252/method-name-prediction/src/utils/f1_evaluator.py\u001b[0m in \u001b[0;36mevaluate_f1\u001b[0;34m(model, vocab, x, y, hyperparameter)\u001b[0m\n\u001b[1;32m     27\u001b[0m                                                            \u001b[0mend_of_sentence_id\u001b[0m\u001b[0;34m,\u001b[0m\u001b[0;34m\u001b[0m\u001b[0;34m\u001b[0m\u001b[0m\n\u001b[1;32m     28\u001b[0m                                                            \u001b[0mhyperparameter\u001b[0m\u001b[0;34m[\u001b[0m\u001b[0;34m'beam_width'\u001b[0m\u001b[0;34m]\u001b[0m\u001b[0;34m,\u001b[0m\u001b[0;34m\u001b[0m\u001b[0;34m\u001b[0m\u001b[0m\n\u001b[0;32m---> 29\u001b[0;31m                                                            \u001b[0mhyperparameter\u001b[0m\u001b[0;34m[\u001b[0m\u001b[0;34m'beam_top_paths'\u001b[0m\u001b[0;34m]\u001b[0m\u001b[0;34m,\u001b[0m\u001b[0;34m\u001b[0m\u001b[0;34m\u001b[0m\u001b[0m\n\u001b[0m\u001b[1;32m     30\u001b[0m                                                            )\n\u001b[1;32m     31\u001b[0m     \u001b[0;31m# return best_predictions, best_predictions_probs\u001b[0m\u001b[0;34m\u001b[0m\u001b[0;34m\u001b[0m\u001b[0;34m\u001b[0m\u001b[0m\n",
      "\u001b[0;32m~/Projects/r252/method-name-prediction/src/utils/data_utils.py\u001b[0m in \u001b[0;36mbeam_search\u001b[0;34m(predictions, y, padding_token_id, start_sentence_token_id, end_sentence_token_id, beam_width, beam_top_paths)\u001b[0m\n\u001b[1;32m     46\u001b[0m \u001b[0;34m\u001b[0m\u001b[0m\n\u001b[1;32m     47\u001b[0m     \u001b[0mbest_predictions\u001b[0m\u001b[0;34m.\u001b[0m\u001b[0mappend\u001b[0m\u001b[0;34m(\u001b[0m\u001b[0mtop_paths_predictions\u001b[0m\u001b[0;34m)\u001b[0m\u001b[0;34m\u001b[0m\u001b[0;34m\u001b[0m\u001b[0m\n\u001b[0;32m---> 48\u001b[0;31m     \u001b[0mtop_paths_predictions_probs\u001b[0m \u001b[0;34m=\u001b[0m \u001b[0mK\u001b[0m\u001b[0;34m.\u001b[0m\u001b[0mbatch_get_value\u001b[0m\u001b[0;34m(\u001b[0m\u001b[0mprobs\u001b[0m\u001b[0;34m)\u001b[0m\u001b[0;34m\u001b[0m\u001b[0;34m\u001b[0m\u001b[0m\n\u001b[0m\u001b[1;32m     49\u001b[0m     \u001b[0mbest_predictions_probs\u001b[0m\u001b[0;34m.\u001b[0m\u001b[0mappend\u001b[0m\u001b[0;34m(\u001b[0m\u001b[0mnp\u001b[0m\u001b[0;34m.\u001b[0m\u001b[0mexp\u001b[0m\u001b[0;34m(\u001b[0m\u001b[0mtop_paths_predictions_probs\u001b[0m\u001b[0;34m[\u001b[0m\u001b[0;36m0\u001b[0m\u001b[0;34m]\u001b[0m\u001b[0;34m)\u001b[0m\u001b[0;34m)\u001b[0m\u001b[0;34m\u001b[0m\u001b[0;34m\u001b[0m\u001b[0m\n\u001b[1;32m     50\u001b[0m     \u001b[0mprint\u001b[0m\u001b[0;34m(\u001b[0m\u001b[0;34m\"beam search ended for one iteration in {}ms\"\u001b[0m\u001b[0;34m.\u001b[0m\u001b[0mformat\u001b[0m\u001b[0;34m(\u001b[0m\u001b[0mtime\u001b[0m\u001b[0;34m.\u001b[0m\u001b[0mtime\u001b[0m\u001b[0;34m(\u001b[0m\u001b[0;34m)\u001b[0m \u001b[0;34m-\u001b[0m \u001b[0mstart_time\u001b[0m\u001b[0;34m)\u001b[0m\u001b[0;34m)\u001b[0m\u001b[0;34m\u001b[0m\u001b[0;34m\u001b[0m\u001b[0m\n",
      "\u001b[0;32m~/anaconda3/envs/method-name-prediction/lib/python3.6/site-packages/tensorflow/python/keras/backend.py\u001b[0m in \u001b[0;36mbatch_get_value\u001b[0;34m(tensors)\u001b[0m\n\u001b[1;32m   2816\u001b[0m   \u001b[0;32melif\u001b[0m \u001b[0mops\u001b[0m\u001b[0;34m.\u001b[0m\u001b[0minside_function\u001b[0m\u001b[0;34m(\u001b[0m\u001b[0;34m)\u001b[0m\u001b[0;34m:\u001b[0m  \u001b[0;31m# pylint: disable=protected-access\u001b[0m\u001b[0;34m\u001b[0m\u001b[0;34m\u001b[0m\u001b[0m\n\u001b[1;32m   2817\u001b[0m     \u001b[0;32mraise\u001b[0m \u001b[0mRuntimeError\u001b[0m\u001b[0;34m(\u001b[0m\u001b[0;34m'Cannot get value inside Tensorflow graph function.'\u001b[0m\u001b[0;34m)\u001b[0m\u001b[0;34m\u001b[0m\u001b[0;34m\u001b[0m\u001b[0m\n\u001b[0;32m-> 2818\u001b[0;31m   \u001b[0;32mif\u001b[0m \u001b[0mtensors\u001b[0m\u001b[0;34m:\u001b[0m\u001b[0;34m\u001b[0m\u001b[0;34m\u001b[0m\u001b[0m\n\u001b[0m\u001b[1;32m   2819\u001b[0m     \u001b[0;32mreturn\u001b[0m \u001b[0mget_session\u001b[0m\u001b[0;34m(\u001b[0m\u001b[0;34m)\u001b[0m\u001b[0;34m.\u001b[0m\u001b[0mrun\u001b[0m\u001b[0;34m(\u001b[0m\u001b[0mtensors\u001b[0m\u001b[0;34m)\u001b[0m\u001b[0;34m\u001b[0m\u001b[0;34m\u001b[0m\u001b[0m\n\u001b[1;32m   2820\u001b[0m   \u001b[0;32melse\u001b[0m\u001b[0;34m:\u001b[0m\u001b[0;34m\u001b[0m\u001b[0;34m\u001b[0m\u001b[0m\n",
      "\u001b[0;32m~/anaconda3/envs/method-name-prediction/lib/python3.6/site-packages/tensorflow/python/framework/ops.py\u001b[0m in \u001b[0;36m__bool__\u001b[0;34m(self)\u001b[0m\n\u001b[1;32m    651\u001b[0m       \u001b[0;31m`\u001b[0m\u001b[0mTypeError\u001b[0m\u001b[0;31m`\u001b[0m\u001b[0;34m.\u001b[0m\u001b[0;34m\u001b[0m\u001b[0;34m\u001b[0m\u001b[0m\n\u001b[1;32m    652\u001b[0m     \"\"\"\n\u001b[0;32m--> 653\u001b[0;31m     raise TypeError(\"Using a `tf.Tensor` as a Python `bool` is not allowed. \"\n\u001b[0m\u001b[1;32m    654\u001b[0m                     \u001b[0;34m\"Use `if t is not None:` instead of `if t:` to test if a \"\u001b[0m\u001b[0;34m\u001b[0m\u001b[0;34m\u001b[0m\u001b[0m\n\u001b[1;32m    655\u001b[0m                     \u001b[0;34m\"tensor is defined, and use TensorFlow ops such as \"\u001b[0m\u001b[0;34m\u001b[0m\u001b[0;34m\u001b[0m\u001b[0m\n",
      "\u001b[0;31mTypeError\u001b[0m: Using a `tf.Tensor` as a Python `bool` is not allowed. Use `if t is not None:` instead of `if t:` to test if a tensor is defined, and use TensorFlow ops such as tf.cond to execute subgraphs conditioned on the value of a tensor."
     ],
     "output_type": "error"
    }
   ],
   "source": [
    "cnn_model.evaluate_f1()"
   ]
  },
  {
   "cell_type": "code",
   "execution_count": 27,
   "metadata": {},
   "outputs": [],
   "source": [
    ""
   ]
  }
 ],
 "metadata": {
  "kernelspec": {
   "display_name": "Python 3",
   "language": "python",
   "name": "python3"
  },
  "language_info": {
   "codemirror_mode": {
    "name": "ipython",
    "version": 3
   },
   "file_extension": ".py",
   "mimetype": "text/x-python",
   "name": "python",
   "nbconvert_exporter": "python",
   "pygments_lexer": "ipython3",
   "version": "3.6.8"
  }
 },
 "nbformat": 4,
 "nbformat_minor": 2
}
