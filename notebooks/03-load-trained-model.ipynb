{
 "cells": [
  {
   "cell_type": "code",
   "execution_count": 1,
   "metadata": {},
   "outputs": [],
   "source": [
    "%load_ext autoreload\n",
    "%matplotlib inline\n",
    "\n",
    "%autoreload 2\n",
    "\n",
    "# %load_ext watermark\n",
    "# %watermark -v -n -m -p numpy,scipy,sklearn,pandas,tensorflow,keras\n",
    "\n"
   ]
  },
  {
   "cell_type": "code",
   "execution_count": 7,
   "metadata": {},
   "outputs": [],
   "source": [
    "import json\n",
    "import numpy as np\n",
    "\n",
    "np.random.seed(1)\n",
    "config_file_path = 'configs/example-config.json'\n",
    "input_data_dir = 'data/raw/r252-corpus-features/org/elasticsearch/action/admin'\n",
    "trained_model_dir = 'trained_models/cnn_attention/elasticsearch_with_no_tests/2019-03-09-16-12'\n",
    "with open(config_file_path, 'r') as fp:\n",
    "    hyperparameters = json.load(fp)\n"
   ]
  },
  {
   "cell_type": "code",
   "execution_count": 9,
   "metadata": {
    "collapsed": false
   },
   "outputs": [
    {
     "name": "stdout",
     "output_type": "stream",
     "text": [
      "No previous files found, loading files\nTotal # files: 377\nTraining Data: 236, Testing Data: 114, Validating data: 27\n"
     ]
    }
   ],
   "source": [
    "from models.complete_models import CnnAttentionModel\n",
    "from run_model import load_train_test_validate_dataset\n",
    "\n",
    "datasets_preprocessors = load_train_test_validate_dataset(hyperparameters, input_data_dir, trained_model_dir,\n",
    "                                                          use_same_input_as_trained_model=False)\n"
   ]
  },
  {
   "cell_type": "code",
   "execution_count": 11,
   "metadata": {
    "collapsed": true
   },
   "outputs": [
    {
     "name": "stdout",
     "output_type": "stream",
     "text": [
      "WARNING:tensorflow:From /home/samialab/anaconda3/envs/method-name-prediction/lib/python3.6/site-packages/tensorflow/python/ops/resource_variable_ops.py:435: colocate_with (from tensorflow.python.framework.ops) is deprecated and will be removed in a future version.\nInstructions for updating:\nColocations handled automatically by placer.\n"
     ]
    }
   ],
   "source": [
    "cnn_model = CnnAttentionModel(hyperparameters, datasets_preprocessors, trained_model_dir)\n"
   ]
  },
  {
   "cell_type": "code",
   "execution_count": 12,
   "metadata": {
    "collapsed": true
   },
   "outputs": [
    {
     "name": "stdout",
     "output_type": "stream",
     "text": [
      "2019-03-11-11-1611: In beam search\nWARNING:tensorflow:From /home/samialab/anaconda3/envs/method-name-prediction/lib/python3.6/site-packages/tensorflow/python/keras/backend.py:5119: to_int32 (from tensorflow.python.ops.math_ops) is deprecated and will be removed in a future version.\nInstructions for updating:\nUse tf.cast instead.\n"
     ]
    },
    {
     "name": "stdout",
     "output_type": "stream",
     "text": [
      "WARNING:tensorflow:From /home/samialab/anaconda3/envs/method-name-prediction/lib/python3.6/site-packages/tensorflow/python/keras/backend.py:5133: sparse_to_dense (from tensorflow.python.ops.sparse_ops) is deprecated and will be removed in a future version.\nInstructions for updating:\nCreate a `tf.sparse.SparseTensor` and use `tf.sparse.to_dense` instead.\n"
     ]
    },
    {
     "name": "stdout",
     "output_type": "stream",
     "text": [
      "2019-03-11-11-2422: Evaluating beam search TF graph\n"
     ]
    },
    {
     "name": "stdout",
     "output_type": "stream",
     "text": [
      "2019-03-11-11-2513 Cleaning beamsearch results\n"
     ]
    },
    {
     "name": "stdout",
     "output_type": "stream",
     "text": [
      "beam search ended for one iteration in 591.501255273819ms\n"
     ]
    },
    {
     "name": "stderr",
     "output_type": "stream",
     "text": [
      "/home/samialab/Projects/r252/method-name-prediction/src/utils/f1_evaluator.py:162: RuntimeWarning: invalid value encountered in true_divide\n  sug_acc = 'Suggestion Accuracy {}{}'.format(np.divide(n_correct_suggestions[i], n_made_suggestions[i]),\n/home/samialab/Projects/r252/method-name-prediction/src/utils/f1_evaluator.py:165: RuntimeWarning: invalid value encountered in true_divide\n  np.divide(self.sum_unk_word_accuracy[i], self.sum_unk_word_locations[i]), os.linesep)\n/home/samialab/Projects/r252/method-name-prediction/src/utils/f1_evaluator.py:168: RuntimeWarning: invalid value encountered in true_divide\n  np.divide(self.sum_precisions_suggestions[i], n_made_suggestions[i]), os.linesep)\n/home/samialab/Projects/r252/method-name-prediction/src/utils/f1_evaluator.py:170: RuntimeWarning: invalid value encountered in true_divide\n  np.divide(self.sum_recalls_suggestions[i], n_made_suggestions[i]), os.linesep)\n/home/samialab/Projects/r252/method-name-prediction/src/utils/f1_evaluator.py:171: RuntimeWarning: invalid value encountered in true_divide\n  sug_f1 = 'Suggestion F1 {}{}'.format(np.divide(self.sum_f1_suggestions[i], n_made_suggestions[i]),\n"
     ]
    },
    {
     "data": {
      "text/plain": [
       "<utils.f1_evaluator.PointSuggestionEvaluator at 0x7feacc93e9e8>"
      ]
     },
     "execution_count": 12,
     "metadata": {},
     "output_type": "execute_result"
    }
   ],
   "source": [
    "cnn_model.evaluate_f1()"
   ]
  },
  {
   "cell_type": "code",
   "execution_count": 27,
   "metadata": {},
   "outputs": [],
   "source": [
    ""
   ]
  }
 ],
 "metadata": {
  "kernelspec": {
   "display_name": "Python 3",
   "language": "python",
   "name": "python3"
  },
  "language_info": {
   "codemirror_mode": {
    "name": "ipython",
    "version": 3
   },
   "file_extension": ".py",
   "mimetype": "text/x-python",
   "name": "python",
   "nbconvert_exporter": "python",
   "pygments_lexer": "ipython3",
   "version": "3.6.8"
  }
 },
 "nbformat": 4,
 "nbformat_minor": 2
}
