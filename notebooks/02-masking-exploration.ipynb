{
 "cells": [
  {
   "cell_type": "code",
   "execution_count": 1,
   "metadata": {},
   "outputs": [],
   "source": [
    "%load_ext autoreload\n",
    "%matplotlib inline\n",
    "\n",
    "%autoreload 2\n",
    "\n",
    "# %load_ext watermark\n",
    "# %watermark -v -n -m -p numpy,scipy,sklearn,pandas,tensorflow,keras\n",
    "\n"
   ]
  },
  {
   "cell_type": "code",
   "execution_count": 112,
   "metadata": {
    "collapsed": false
   },
   "outputs": [],
   "source": [
    "from data.preprocess import PreProcessor\n",
    "\n",
    "data = PreProcessor(config=PreProcessor.DEFAULT_CONFIG,\n",
    "                    data_dir='data/raw/r252-corpus-features/org/elasticsearch/action/admin/cluster/')\n",
    "# data = PreProcessor(config=PreProcessor.DEFAULT_CONFIG,\n",
    "#                     data_dir='data/raw/r252-corpus-features/org/elasticsearch/')\n",
    "\n",
    "vocab = data.metadata['token_vocab']\n",
    "processed = data.get_tensorise_data()\n"
   ]
  },
  {
   "cell_type": "code",
   "execution_count": 122,
   "metadata": {
    "collapsed": false
   },
   "outputs": [
    {
     "name": "stdout",
     "output_type": "stream",
     "text": [
      "Vocab Size: 629 number of Code snippet: 224 number of labels: 224\nLabel_name shape: (224, 50, 1)\nCode_snippet shape: (224, 50, 1)\nConvAttention: mask_vector shape = (1, 50, 1)\nConvAttention: Tokens shape = (1, 50, 1, 128)\n"
     ]
    },
    {
     "name": "stdout",
     "output_type": "stream",
     "text": [
      "ConvAttention: h_t shape = (1, 50, 8)\nAttentionFeatures: C shape = (1, 50, 1, 128), h_t shape = (1, 50, 8)\nAttentionFeatures: L_1 shape = (1, 50, 1, 8)\nAttentionFeatures: L_2 shape = (1, 50, 1, 8)\nAttentionFeatures: L_2 shape  after multiply = (1, 50, 50, 8)\nAttentionFeatures: L_feat shape = (1, 50, 50, 8)\nConvAttention: L_feat shape = (1, 50, 50, 8)\nAttentionWeights: l_feat shape = (1, 50, 50, 8)\nAttentionWeights: attention_weight shape = (1, 50, 50, 1)\nConvAttention: alpha shape = (1, 50, 50)\nConvAttention: n_hat shape = (1, 50, 128)\n"
     ]
    },
    {
     "name": "stdout",
     "output_type": "stream",
     "text": [
      "ConvAttention: n shape = (1, 50, 629)\nTrain on 179 samples, validate on 45 samples\n"
     ]
    },
    {
     "name": "stdout",
     "output_type": "stream",
     "text": [
      "Epoch 1/50\n"
     ]
    },
    {
     "name": "stdout",
     "output_type": "stream",
     "text": [
      " - 7s - loss: 4.5361 - acc: 0.4337 - val_loss: 1.8123 - val_acc: 0.9009\n"
     ]
    },
    {
     "name": "stdout",
     "output_type": "stream",
     "text": [
      "Epoch 2/50\n"
     ]
    },
    {
     "name": "stdout",
     "output_type": "stream",
     "text": [
      " - 4s - loss: 1.1244 - acc: 0.8944 - val_loss: 0.9904 - val_acc: 0.8636\n"
     ]
    },
    {
     "name": "stdout",
     "output_type": "stream",
     "text": [
      "Epoch 3/50\n"
     ]
    },
    {
     "name": "stdout",
     "output_type": "stream",
     "text": [
      " - 4s - loss: 0.7090 - acc: 0.8946 - val_loss: 0.8174 - val_acc: 0.8631\n"
     ]
    },
    {
     "name": "stdout",
     "output_type": "stream",
     "text": [
      "Epoch 4/50\n"
     ]
    },
    {
     "name": "stdout",
     "output_type": "stream",
     "text": [
      " - 4s - loss: 0.5841 - acc: 0.8947 - val_loss: 0.7498 - val_acc: 0.8631\n"
     ]
    },
    {
     "name": "stdout",
     "output_type": "stream",
     "text": [
      "Epoch 5/50\n"
     ]
    },
    {
     "name": "stdout",
     "output_type": "stream",
     "text": [
      " - 4s - loss: 0.5357 - acc: 0.8949 - val_loss: 0.7225 - val_acc: 0.8627\n"
     ]
    },
    {
     "name": "stdout",
     "output_type": "stream",
     "text": [
      "Epoch 6/50\n"
     ]
    },
    {
     "name": "stdout",
     "output_type": "stream",
     "text": [
      " - 4s - loss: 0.5116 - acc: 0.8947 - val_loss: 0.7054 - val_acc: 0.8622\n"
     ]
    },
    {
     "name": "stdout",
     "output_type": "stream",
     "text": [
      "Epoch 7/50\n"
     ]
    },
    {
     "name": "stdout",
     "output_type": "stream",
     "text": [
      " - 4s - loss: 0.4977 - acc: 0.8952 - val_loss: 0.6872 - val_acc: 0.8622\n"
     ]
    },
    {
     "name": "stdout",
     "output_type": "stream",
     "text": [
      "Epoch 8/50\n"
     ]
    },
    {
     "name": "stdout",
     "output_type": "stream",
     "text": [
      " - 4s - loss: 0.4827 - acc: 0.8950 - val_loss: 0.6824 - val_acc: 0.8627\n"
     ]
    },
    {
     "name": "stdout",
     "output_type": "stream",
     "text": [
      "Epoch 9/50\n"
     ]
    },
    {
     "name": "stdout",
     "output_type": "stream",
     "text": [
      " - 4s - loss: 0.4721 - acc: 0.8955 - val_loss: 0.6746 - val_acc: 0.8631\n"
     ]
    },
    {
     "name": "stdout",
     "output_type": "stream",
     "text": [
      "Epoch 10/50\n"
     ]
    },
    {
     "name": "stdout",
     "output_type": "stream",
     "text": [
      " - 4s - loss: 0.4628 - acc: 0.8951 - val_loss: 0.6721 - val_acc: 0.8644\n"
     ]
    },
    {
     "name": "stdout",
     "output_type": "stream",
     "text": [
      "Epoch 11/50\n"
     ]
    },
    {
     "name": "stdout",
     "output_type": "stream",
     "text": [
      " - 4s - loss: 0.4565 - acc: 0.8951 - val_loss: 0.6664 - val_acc: 0.8609\n"
     ]
    },
    {
     "name": "stdout",
     "output_type": "stream",
     "text": [
      "Epoch 12/50\n"
     ]
    },
    {
     "name": "stdout",
     "output_type": "stream",
     "text": [
      " - 4s - loss: 0.4505 - acc: 0.8942 - val_loss: 0.6645 - val_acc: 0.8604\n"
     ]
    },
    {
     "name": "stdout",
     "output_type": "stream",
     "text": [
      "Epoch 13/50\n"
     ]
    },
    {
     "name": "stdout",
     "output_type": "stream",
     "text": [
      " - 4s - loss: 0.4456 - acc: 0.8941 - val_loss: 0.6649 - val_acc: 0.8587\n"
     ]
    },
    {
     "name": "stdout",
     "output_type": "stream",
     "text": [
      "Epoch 14/50\n"
     ]
    },
    {
     "name": "stdout",
     "output_type": "stream",
     "text": [
      " - 4s - loss: 0.4412 - acc: 0.8943 - val_loss: 0.6611 - val_acc: 0.8591\n"
     ]
    },
    {
     "name": "stdout",
     "output_type": "stream",
     "text": [
      "Epoch 15/50\n"
     ]
    },
    {
     "name": "stdout",
     "output_type": "stream",
     "text": [
      " - 4s - loss: 0.4366 - acc: 0.8944 - val_loss: 0.6607 - val_acc: 0.8591\n"
     ]
    },
    {
     "name": "stdout",
     "output_type": "stream",
     "text": [
      "Epoch 16/50\n"
     ]
    },
    {
     "name": "stdout",
     "output_type": "stream",
     "text": [
      " - 4s - loss: 0.4345 - acc: 0.8949 - val_loss: 0.6594 - val_acc: 0.8600\n"
     ]
    },
    {
     "name": "stdout",
     "output_type": "stream",
     "text": [
      "Epoch 17/50\n"
     ]
    },
    {
     "name": "stdout",
     "output_type": "stream",
     "text": [
      " - 4s - loss: 0.4309 - acc: 0.8966 - val_loss: 0.6600 - val_acc: 0.8591\n"
     ]
    },
    {
     "name": "stdout",
     "output_type": "stream",
     "text": [
      "Epoch 18/50\n"
     ]
    },
    {
     "name": "stdout",
     "output_type": "stream",
     "text": [
      " - 4s - loss: 0.4279 - acc: 0.8971 - val_loss: 0.6610 - val_acc: 0.8649\n"
     ]
    },
    {
     "name": "stdout",
     "output_type": "stream",
     "text": [
      "Epoch 19/50\n"
     ]
    },
    {
     "name": "stdout",
     "output_type": "stream",
     "text": [
      " - 4s - loss: 0.4256 - acc: 0.9037 - val_loss: 0.6613 - val_acc: 0.8649\n"
     ]
    },
    {
     "name": "stdout",
     "output_type": "stream",
     "text": [
      "Epoch 20/50\n"
     ]
    },
    {
     "name": "stdout",
     "output_type": "stream",
     "text": [
      " - 4s - loss: 0.4232 - acc: 0.9066 - val_loss: 0.6660 - val_acc: 0.8764\n"
     ]
    },
    {
     "name": "stdout",
     "output_type": "stream",
     "text": [
      "Epoch 21/50\n"
     ]
    },
    {
     "name": "stdout",
     "output_type": "stream",
     "text": [
      " - 4s - loss: 0.4217 - acc: 0.9088 - val_loss: 0.6719 - val_acc: 0.8756\n"
     ]
    },
    {
     "name": "stdout",
     "output_type": "stream",
     "text": [
      "Epoch 22/50\n"
     ]
    },
    {
     "name": "stdout",
     "output_type": "stream",
     "text": [
      " - 4s - loss: 0.4191 - acc: 0.9102 - val_loss: 0.6699 - val_acc: 0.8720\n"
     ]
    },
    {
     "name": "stdout",
     "output_type": "stream",
     "text": [
      "Epoch 23/50\n"
     ]
    },
    {
     "name": "stdout",
     "output_type": "stream",
     "text": [
      " - 4s - loss: 0.4167 - acc: 0.9116 - val_loss: 0.6765 - val_acc: 0.8733\n"
     ]
    },
    {
     "name": "stdout",
     "output_type": "stream",
     "text": [
      "Epoch 24/50\n"
     ]
    },
    {
     "name": "stdout",
     "output_type": "stream",
     "text": [
      " - 4s - loss: 0.4146 - acc: 0.9115 - val_loss: 0.6705 - val_acc: 0.8760\n"
     ]
    },
    {
     "name": "stdout",
     "output_type": "stream",
     "text": [
      "Epoch 25/50\n"
     ]
    },
    {
     "name": "stdout",
     "output_type": "stream",
     "text": [
      " - 4s - loss: 0.4131 - acc: 0.9122 - val_loss: 0.6692 - val_acc: 0.8760\n"
     ]
    },
    {
     "name": "stdout",
     "output_type": "stream",
     "text": [
      "Epoch 26/50\n"
     ]
    },
    {
     "name": "stdout",
     "output_type": "stream",
     "text": [
      " - 4s - loss: 0.4126 - acc: 0.9128 - val_loss: 0.6721 - val_acc: 0.8778\n"
     ]
    },
    {
     "name": "stdout",
     "output_type": "stream",
     "text": [
      "Epoch 27/50\n"
     ]
    },
    {
     "name": "stdout",
     "output_type": "stream",
     "text": [
      " - 4s - loss: 0.4091 - acc: 0.9135 - val_loss: 0.6738 - val_acc: 0.8738\n"
     ]
    },
    {
     "name": "stdout",
     "output_type": "stream",
     "text": [
      "Epoch 28/50\n"
     ]
    },
    {
     "name": "stdout",
     "output_type": "stream",
     "text": [
      " - 4s - loss: 0.4068 - acc: 0.9144 - val_loss: 0.6808 - val_acc: 0.8742\n"
     ]
    },
    {
     "name": "stdout",
     "output_type": "stream",
     "text": [
      "Epoch 29/50\n"
     ]
    },
    {
     "name": "stdout",
     "output_type": "stream",
     "text": [
      " - 4s - loss: 0.4054 - acc: 0.9147 - val_loss: 0.6826 - val_acc: 0.8689\n"
     ]
    },
    {
     "name": "stdout",
     "output_type": "stream",
     "text": [
      "Epoch 30/50\n"
     ]
    },
    {
     "name": "stdout",
     "output_type": "stream",
     "text": [
      " - 4s - loss: 0.4042 - acc: 0.9152 - val_loss: 0.6830 - val_acc: 0.8773\n"
     ]
    },
    {
     "name": "stdout",
     "output_type": "stream",
     "text": [
      "Epoch 31/50\n"
     ]
    },
    {
     "name": "stdout",
     "output_type": "stream",
     "text": [
      " - 4s - loss: 0.4004 - acc: 0.9153 - val_loss: 0.6860 - val_acc: 0.8769\n"
     ]
    },
    {
     "name": "stdout",
     "output_type": "stream",
     "text": [
      "Epoch 32/50\n"
     ]
    },
    {
     "name": "stdout",
     "output_type": "stream",
     "text": [
      " - 4s - loss: 0.3988 - acc: 0.9170 - val_loss: 0.6915 - val_acc: 0.8756\n"
     ]
    },
    {
     "name": "stdout",
     "output_type": "stream",
     "text": [
      "Epoch 33/50\n"
     ]
    },
    {
     "name": "stdout",
     "output_type": "stream",
     "text": [
      " - 4s - loss: 0.3967 - acc: 0.9168 - val_loss: 0.6961 - val_acc: 0.8733\n"
     ]
    },
    {
     "name": "stdout",
     "output_type": "stream",
     "text": [
      "Epoch 34/50\n"
     ]
    },
    {
     "name": "stdout",
     "output_type": "stream",
     "text": [
      " - 4s - loss: 0.3952 - acc: 0.9175 - val_loss: 0.6969 - val_acc: 0.8729\n"
     ]
    },
    {
     "name": "stdout",
     "output_type": "stream",
     "text": [
      "Epoch 35/50\n"
     ]
    },
    {
     "name": "stdout",
     "output_type": "stream",
     "text": [
      " - 4s - loss: 0.3918 - acc: 0.9199 - val_loss: 0.7047 - val_acc: 0.8738\n"
     ]
    },
    {
     "name": "stdout",
     "output_type": "stream",
     "text": [
      "Epoch 36/50\n"
     ]
    },
    {
     "name": "stdout",
     "output_type": "stream",
     "text": [
      " - 4s - loss: 0.3892 - acc: 0.9198 - val_loss: 0.7105 - val_acc: 0.8716\n"
     ]
    },
    {
     "name": "stdout",
     "output_type": "stream",
     "text": [
      "Epoch 37/50\n"
     ]
    },
    {
     "name": "stdout",
     "output_type": "stream",
     "text": [
      " - 4s - loss: 0.3848 - acc: 0.9207 - val_loss: 0.7234 - val_acc: 0.8698\n"
     ]
    },
    {
     "name": "stdout",
     "output_type": "stream",
     "text": [
      "Epoch 38/50\n"
     ]
    },
    {
     "name": "stdout",
     "output_type": "stream",
     "text": [
      " - 4s - loss: 0.3805 - acc: 0.9196 - val_loss: 0.7285 - val_acc: 0.8698\n"
     ]
    },
    {
     "name": "stdout",
     "output_type": "stream",
     "text": [
      "Epoch 39/50\n"
     ]
    },
    {
     "name": "stdout",
     "output_type": "stream",
     "text": [
      " - 4s - loss: 0.3766 - acc: 0.9201 - val_loss: 0.7347 - val_acc: 0.8698\n"
     ]
    },
    {
     "name": "stdout",
     "output_type": "stream",
     "text": [
      "Epoch 40/50\n"
     ]
    },
    {
     "name": "stdout",
     "output_type": "stream",
     "text": [
      " - 4s - loss: 0.3700 - acc: 0.9215 - val_loss: 0.7248 - val_acc: 0.8698\n"
     ]
    },
    {
     "name": "stdout",
     "output_type": "stream",
     "text": [
      "Epoch 41/50\n"
     ]
    },
    {
     "name": "stdout",
     "output_type": "stream",
     "text": [
      " - 4s - loss: 0.3633 - acc: 0.9234 - val_loss: 0.7121 - val_acc: 0.8773\n"
     ]
    },
    {
     "name": "stdout",
     "output_type": "stream",
     "text": [
      "Epoch 42/50\n"
     ]
    },
    {
     "name": "stdout",
     "output_type": "stream",
     "text": [
      " - 4s - loss: 0.3532 - acc: 0.9219 - val_loss: 0.7087 - val_acc: 0.8764\n"
     ]
    },
    {
     "name": "stdout",
     "output_type": "stream",
     "text": [
      "Epoch 43/50\n"
     ]
    },
    {
     "name": "stdout",
     "output_type": "stream",
     "text": [
      " - 4s - loss: 0.3450 - acc: 0.9236 - val_loss: 0.7029 - val_acc: 0.8791\n"
     ]
    },
    {
     "name": "stdout",
     "output_type": "stream",
     "text": [
      "Epoch 44/50\n"
     ]
    },
    {
     "name": "stdout",
     "output_type": "stream",
     "text": [
      " - 4s - loss: 0.3405 - acc: 0.9226 - val_loss: 0.7052 - val_acc: 0.8796\n"
     ]
    },
    {
     "name": "stdout",
     "output_type": "stream",
     "text": [
      "Epoch 45/50\n"
     ]
    },
    {
     "name": "stdout",
     "output_type": "stream",
     "text": [
      " - 4s - loss: 0.3372 - acc: 0.9240 - val_loss: 0.7056 - val_acc: 0.8796\n"
     ]
    },
    {
     "name": "stdout",
     "output_type": "stream",
     "text": [
      "Epoch 46/50\n"
     ]
    },
    {
     "name": "stdout",
     "output_type": "stream",
     "text": [
      " - 4s - loss: 0.3350 - acc: 0.9238 - val_loss: 0.7010 - val_acc: 0.8813\n"
     ]
    },
    {
     "name": "stdout",
     "output_type": "stream",
     "text": [
      "Epoch 47/50\n"
     ]
    },
    {
     "name": "stdout",
     "output_type": "stream",
     "text": [
      " - 4s - loss: 0.3352 - acc: 0.9234 - val_loss: 0.7104 - val_acc: 0.8831\n"
     ]
    },
    {
     "name": "stdout",
     "output_type": "stream",
     "text": [
      "Epoch 48/50\n"
     ]
    },
    {
     "name": "stdout",
     "output_type": "stream",
     "text": [
      " - 4s - loss: 0.3326 - acc: 0.9248 - val_loss: 0.7094 - val_acc: 0.8827\n"
     ]
    },
    {
     "name": "stdout",
     "output_type": "stream",
     "text": [
      "Epoch 49/50\n"
     ]
    },
    {
     "name": "stdout",
     "output_type": "stream",
     "text": [
      " - 4s - loss: 0.3315 - acc: 0.9253 - val_loss: 0.7166 - val_acc: 0.8791\n"
     ]
    },
    {
     "name": "stdout",
     "output_type": "stream",
     "text": [
      "Epoch 50/50\n"
     ]
    },
    {
     "name": "stdout",
     "output_type": "stream",
     "text": [
      " - 4s - loss: 0.3293 - acc: 0.9241 - val_loss: 0.7196 - val_acc: 0.8742\n"
     ]
    }
   ],
   "source": [
    "import numpy as np\n",
    "import tensorflow as tf\n",
    "from tensorflow.python import keras\n",
    "from tensorflow.python.keras import layers\n",
    "\n",
    "from models.cnn_attention import ConvAttention\n",
    "from utils.activations import masked_sparse_cross_entropy_loss\n",
    "\n",
    "vocabulary_size = len(vocab) + 1\n",
    "max_chunk_length = data.config['max_chunk_length']\n",
    "# code_snippet = processed['body_tokens']\n",
    "code_snippet = np.expand_dims(processed['body_tokens'], -1)\n",
    "label_name = np.expand_dims(processed['name_tokens'], axis=-1)\n",
    "# label_name = processed['name_tokens']\n",
    "# label_name = keras.utils.to_categorical(processed['name_tokens'], num_classes=vocabulary_size)\n",
    "print(\"Vocab Size: {} number of Code snippet: {} number of labels: {}\".format(vocabulary_size, len(code_snippet),\n",
    "                                                                              len(label_name)))\n",
    "print(\"Label_name shape: {}\\nCode_snippet shape: {}\".format(label_name.shape, code_snippet.shape))\n",
    "\n",
    "# TODO make the input a json file and parse it\n",
    "hyperparameter = {'batch_size': 1, 'k1': 8, 'k2': 8, 'w1': 24, 'w2': 29, 'w3': 10, 'dropout_rate': 0.5,\n",
    "                  'max_chunk_length': max_chunk_length, 'vocabulary_size': vocabulary_size, 'embedding_dim': 128}\n",
    "# Optimised hyperparameter are reported in page 5 of the paper\n",
    "\n",
    "batch_size = hyperparameter['batch_size']\n",
    "# define layers\n",
    "main_input = layers.Input(shape=(max_chunk_length, 1),\n",
    "                          batch_size=batch_size,\n",
    "                          dtype=tf.int32, name='main_input',\n",
    "                          )\n",
    "\n",
    "cnn_layer = ConvAttention(hyperparameter)\n",
    "\n",
    "optimizer = keras.optimizers.Nadam()  # RMSprop with Nesterov momentum\n",
    "# loss_func = masked_sparse_cross_entropy_loss\n",
    "loss_func = keras.losses.sparse_categorical_crossentropy\n",
    "\n",
    "# define execution\n",
    "cnn_output = cnn_layer(main_input)\n",
    "model = keras.Model(inputs=[main_input], outputs=cnn_output)\n",
    "model.compile(optimizer=optimizer,\n",
    "              loss=loss_func,\n",
    "              metrics=['accuracy'],\n",
    "              )\n",
    "# fit the model\n",
    "# tbCallBack = keras.callbacks.TensorBoard(log_dir='./Graph', histogram_freq=0, write_graph=True, write_images=True,\n",
    "#                                          batch_size=batch_size)\n",
    "history = model.fit(code_snippet,\n",
    "                    label_name,\n",
    "                    epochs=50,\n",
    "                    verbose=2,\n",
    "                    batch_size=batch_size,\n",
    "                    # callbacks=[tbCallBack],\n",
    "                    validation_split=0.2)\n"
   ]
  },
  {
   "cell_type": "code",
   "execution_count": 150,
   "metadata": {
    "collapsed": true
   },
   "outputs": [
    {
     "data": {
      "image/png": "[encoded data removed]",
      "text/plain": [
       "<Figure size 432x288 with 1 Axes>"
      ]
     },
     "metadata": {},
     "output_type": "display_data"
    },
    {
     "data": {
      "image/png": "[encoded data removed]",
      "text/plain": [
       "<Figure size 432x288 with 1 Axes>"
      ]
     },
     "metadata": {},
     "output_type": "display_data"
    }
   ],
   "source": [
    "import matplotlib.pyplot as plt\n",
    "\n",
    "# Plot training & validation accuracy values\n",
    "plt.plot(history.history['acc'])\n",
    "plt.plot(history.history['val_acc'])\n",
    "plt.title('Model accuracy')\n",
    "plt.ylabel('Accuracy')\n",
    "plt.xlabel('Epoch')\n",
    "plt.legend(['Train', 'Test'], loc='upper left')\n",
    "plt.show()\n",
    "\n",
    "# Plot training & validation loss values\n",
    "plt.plot(history.history['loss'])\n",
    "plt.plot(history.history['val_loss'])\n",
    "plt.title('Model loss')\n",
    "plt.ylabel('Loss')\n",
    "plt.xlabel('Epoch')\n",
    "plt.legend(['Train', 'Test'], loc='upper left')\n",
    "plt.show()"
   ]
  },
  {
   "cell_type": "code",
   "execution_count": 151,
   "metadata": {
    "collapsed": false
   },
   "outputs": [
    {
     "name": "stdout",
     "output_type": "stream",
     "text": [
      "Accuracy: 95.76640725135803\n"
     ]
    }
   ],
   "source": [
    "# # overfit and evaluate the model \n",
    "loss, accuracy = model.evaluate(code_snippet, label_name, batch_size=1, verbose=0)\n",
    "print('Accuracy: {}'.format(accuracy * 100))\n"
   ]
  },
  {
   "cell_type": "code",
   "execution_count": 127,
   "metadata": {},
   "outputs": [
    {
     "name": "stdout",
     "output_type": "stream",
     "text": [
      "Saved model to disk\n"
     ]
    }
   ],
   "source": [
    "# tf.keras.models.save_model(\n",
    "#     model,\n",
    "#     'test',\n",
    "#     overwrite=True,\n",
    "#     include_optimizer=True\n",
    "# )\n",
    "# serialize weights to HDF5\n",
    "model.save_weights(\"model.h5\")\n",
    "print(\"Saved model to disk\")\n"
   ]
  },
  {
   "cell_type": "code",
   "execution_count": 169,
   "metadata": {
    "collapsed": true
   },
   "outputs": [
    {
     "name": "stdout",
     "output_type": "stream",
     "text": [
      "[[ 9  9 10 10  0  0  0  0  0  0  0  0  0  0  0  0  0  0  0  0  0  0  0  0\n   0  0  0  0  0  0  0  0  0  0  0  0  0  0  0  0  0  0  0  0  0  0  0  0\n   0  0]]\n"
     ]
    }
   ],
   "source": [
    "# translate prediction\n",
    "\n",
    "from data.utils import translate_tokenized_array_to_list_words, predict_name\n",
    "\n",
    "# prediction = model.predict(np.expand_dims(code_snippet[8], 0), steps=1)\n",
    "prediction = model.predict(code_snippet[9:10], steps=1)\n",
    "print(prediction.argmax(2))\n",
    "# translate_tokenized_array_to_list_words(vocab, [10])\n",
    "# predict_name(vocab, model, code_snippet[21].reshape(1, -1))\n",
    "# translate_tokenized_array_to_list_words(vocab, prediction.argmax(2)[0])\n",
    "# print(prediction2.argmax(2))\n",
    "# prediction.argmax(2)\n",
    "# label_name.shape\n",
    "# code_snippet.shape\n",
    "\n"
   ]
  },
  {
   "cell_type": "code",
   "execution_count": 170,
   "metadata": {
    "collapsed": false
   },
   "outputs": [
    {
     "data": {
      "text/plain": [
       "array([[[9.74467158e-01, 8.00809916e-03, 1.91711180e-04, 1.77631344e-04,\n         1.64253637e-04],\n        [6.97512478e-02, 4.49461006e-02, 4.08384837e-02, 3.33750322e-02,\n         3.09261326e-02],\n        [8.10689628e-02, 4.16256934e-02, 3.06818392e-02, 3.05920336e-02,\n         2.91933920e-02],\n        [1.95744574e-01, 4.21518870e-02, 3.57662216e-02, 3.55531238e-02,\n         3.33364345e-02],\n        [4.17087853e-01, 3.73823285e-01, 2.66980622e-02, 2.51173712e-02,\n         1.71793625e-02],\n        [9.42873180e-01, 5.38596734e-02, 8.06619413e-04, 7.63124030e-04,\n         3.98238626e-04],\n        [9.99991417e-01, 8.63846526e-06, 8.79301354e-10, 8.46905546e-10,\n         1.86203053e-10],\n        [9.96307254e-01, 3.65777523e-03, 1.15419825e-05, 1.09807361e-05,\n         4.37575682e-06],\n        [9.83414114e-01, 1.61710586e-02, 1.19477285e-04, 1.13321381e-04,\n         5.23261915e-05],\n        [9.99028206e-01, 9.67959350e-04, 1.43433579e-06, 1.36828987e-06,\n         4.78355673e-07],\n        [9.99997497e-01, 2.55612395e-06, 1.30378319e-10, 1.25886121e-10,\n         2.45563066e-11],\n        [9.99652505e-01, 3.46784538e-04, 2.86913405e-07, 2.74274583e-07,\n         8.66815384e-08],\n        [9.99916911e-01, 8.30249774e-05, 3.05182084e-08, 2.92588656e-08,\n         8.03490785e-09],\n        [9.99947786e-01, 5.22512746e-05, 1.47682071e-08, 1.41721115e-08,\n         3.71873488e-09],\n        [9.99919891e-01, 8.00553244e-05, 2.88246813e-08, 2.76372241e-08,\n         7.56247331e-09],\n        [9.99864221e-01, 1.35598588e-04, 6.58419168e-08, 6.30618686e-08,\n         1.81730098e-08],\n        [9.99994755e-01, 5.25741098e-06, 4.03739819e-10, 3.89257515e-10,\n         8.15075646e-11],\n        [9.99928951e-01, 7.10340319e-05, 2.38988136e-08, 2.29198740e-08,\n         6.19839247e-09],\n        [9.99972105e-01, 2.79117485e-05, 5.52715340e-09, 5.31083044e-09,\n         1.31028233e-09],\n        [9.99996185e-01, 3.84281657e-06, 2.47026205e-10, 2.38317505e-10,\n         4.83882413e-11],\n        [9.99954820e-01, 4.51516789e-05, 1.17467103e-08, 1.12759064e-08,\n         2.91662405e-09],\n        [9.99992013e-01, 8.03681178e-06, 7.85225551e-10, 7.56406826e-10,\n         1.65129924e-10],\n        [9.99992490e-01, 7.48259617e-06, 7.02029768e-10, 6.76362411e-10,\n         1.46622797e-10],\n        [9.99991179e-01, 8.87156602e-06, 9.16775045e-10, 8.82949769e-10,\n         1.94636501e-10],\n        [9.99993205e-01, 6.83158123e-06, 6.08686268e-10, 5.86540261e-10,\n         1.26018668e-10],\n        [9.99989271e-01, 1.06972748e-05, 1.22927746e-09, 1.18347288e-09,\n         2.65724664e-10],\n        [9.99948502e-01, 5.15388492e-05, 1.44538470e-08, 1.38708369e-08,\n         3.63477626e-09],\n        [9.99996901e-01, 3.11650047e-06, 1.77883666e-10, 1.71685222e-10,\n         3.41490031e-11],\n        [9.99942541e-01, 5.74501282e-05, 1.71355143e-08, 1.64406977e-08,\n         4.35441594e-09],\n        [9.99983311e-01, 1.67046728e-05, 2.47198950e-09, 2.37772424e-09,\n         5.57770719e-10],\n        [9.99997973e-01, 2.06206096e-06, 9.31100821e-11, 8.99412350e-11,\n         1.71782259e-11],\n        [9.99951959e-01, 4.80257295e-05, 1.29396946e-08, 1.24195596e-08,\n         3.23197269e-09],\n        [9.99993324e-01, 6.63869605e-06, 5.81965864e-10, 5.60825220e-10,\n         1.20155247e-10],\n        [9.99995232e-01, 4.81736561e-06, 3.52046892e-10, 3.39479056e-10,\n         7.04762915e-11],\n        [9.99991417e-01, 8.60183445e-06, 8.73462580e-10, 8.41288317e-10,\n         1.84890783e-10],\n        [9.99995232e-01, 4.71949761e-06, 3.40900669e-10, 3.28744587e-10,\n         6.81102050e-11],\n        [9.99986172e-01, 1.38499927e-05, 1.84279414e-09, 1.77319870e-09,\n         4.08370060e-10],\n        [9.99920368e-01, 7.95802189e-05, 2.85569897e-08, 2.73808709e-08,\n         7.48794182e-09],\n        [9.99967575e-01, 3.24490247e-05, 6.99894898e-09, 6.72297107e-09,\n         1.68341363e-09],\n        [9.99992490e-01, 7.54191569e-06, 7.10772663e-10, 6.84773849e-10,\n         1.48561524e-10],\n        [9.99998689e-01, 1.27867486e-06, 4.40245861e-11, 4.25676716e-11,\n         7.75720634e-12],\n        [9.99986172e-01, 1.38505475e-05, 1.84291016e-09, 1.77330695e-09,\n         4.08397316e-10],\n        [9.99989867e-01, 1.01645192e-05, 1.13468457e-09, 1.09251919e-09,\n         2.44074538e-10],\n        [9.99978185e-01, 2.18343521e-05, 3.76132103e-09, 3.61591668e-09,\n         8.70846062e-10],\n        [9.99999881e-01, 1.06622181e-07, 8.96600665e-13, 8.71320485e-13,\n         1.24390895e-13],\n        [9.99860764e-01, 1.39012176e-04, 6.84585117e-08, 6.55647341e-08,\n         1.89405363e-08],\n        [9.99146104e-01, 8.50622891e-04, 1.17127342e-06, 1.11763472e-06,\n         3.85791793e-07],\n        [9.99994993e-01, 5.05046182e-06, 3.79110771e-10, 3.65541181e-10,\n         7.62399449e-11],\n        [9.99230504e-01, 7.66835699e-04, 9.95519827e-07, 9.50130925e-07,\n         3.24644304e-07],\n        [9.98770177e-01, 1.22391072e-03, 2.07215362e-06, 1.97579448e-06,\n         7.06866899e-07]]], dtype=float32)"
      ]
     },
     "execution_count": 170,
     "metadata": {},
     "output_type": "execute_result"
    }
   ],
   "source": [
    "tf.Session().run(keras.backend.nn.top_k(prediction, k=5, sorted=True, name=None).values)"
   ]
  },
  {
   "cell_type": "code",
   "execution_count": 171,
   "metadata": {},
   "outputs": [
    {
     "data": {
      "text/plain": [
       "array([[[  9, 395, 330, 502, 501],\n        [  9,  10,  15,  47,   8],\n        [ 10,  15,  47,  13,   8],\n        [ 10,   0,  13,  21,  46],\n        [  0,  10,  21,  46,  31],\n        [  0,  10,  21,  46,  31],\n        [  0,  10,  21,  46,  31],\n        [  0,  10,  21,  46,  31],\n        [  0,  10,  21,  46,  31],\n        [  0,  10,  21,  46,  31],\n        [  0,  10,  21,  46,  31],\n        [  0,  10,  21,  46,  31],\n        [  0,  10,  21,  46,  31],\n        [  0,  10,  21,  46,  31],\n        [  0,  10,  21,  46,  31],\n        [  0,  10,  21,  46,  31],\n        [  0,  10,  21,  46,  31],\n        [  0,  10,  21,  46,  31],\n        [  0,  10,  21,  46,  31],\n        [  0,  10,  21,  46,  31],\n        [  0,  10,  21,  46,  31],\n        [  0,  10,  21,  46,  31],\n        [  0,  10,  21,  46,  31],\n        [  0,  10,  21,  46,  31],\n        [  0,  10,  21,  46,  31],\n        [  0,  10,  21,  46,  31],\n        [  0,  10,  21,  46,  31],\n        [  0,  10,  21,  46,  31],\n        [  0,  10,  21,  46,  31],\n        [  0,  10,  21,  46,  31],\n        [  0,  10,  21,  46,  31],\n        [  0,  10,  21,  46,  31],\n        [  0,  10,  21,  46,  31],\n        [  0,  10,  21,  46,  31],\n        [  0,  10,  21,  46,  31],\n        [  0,  10,  21,  46,  31],\n        [  0,  10,  21,  46,  31],\n        [  0,  10,  21,  46,  31],\n        [  0,  10,  21,  46,  31],\n        [  0,  10,  21,  46,  31],\n        [  0,  10,  21,  46,  31],\n        [  0,  10,  21,  46,  31],\n        [  0,  10,  21,  46,  31],\n        [  0,  10,  21,  46,  31],\n        [  0,  10,  21,  46,  31],\n        [  0,  10,  21,  46,  31],\n        [  0,  10,  21,  46,  31],\n        [  0,  10,  21,  46,  31],\n        [  0,  10,  21,  46,  31],\n        [  0,  10,  21,  46,  31]]], dtype=int32)"
      ]
     },
     "execution_count": 171,
     "metadata": {},
     "output_type": "execute_result"
    }
   ],
   "source": [
    "tf.Session().run(keras.backend.nn.top_k(prediction, k=5, sorted=True, name=None).indices)"
   ]
  },
  {
   "cell_type": "code",
   "execution_count": 174,
   "metadata": {},
   "outputs": [
    {
     "data": {
      "text/plain": [
       "['<s>', 'cluster', 'transport', 'node', 'get', '</s>']"
      ]
     },
     "execution_count": 174,
     "metadata": {},
     "output_type": "execute_result"
    }
   ],
   "source": [
    "translate_tokenized_array_to_list_words(vocab, np.asarray([9, 15, 47, 13, 8, 10]))\n"
   ]
  },
  {
   "cell_type": "code",
   "execution_count": 172,
   "metadata": {},
   "outputs": [
    {
     "data": {
      "text/plain": [
       "['<s>', 'get', 'snapshots', 'request', '</s>']"
      ]
     },
     "execution_count": 172,
     "metadata": {},
     "output_type": "execute_result"
    }
   ],
   "source": [
    "translate_tokenized_array_to_list_words(vocab, label_name[9].reshape(1, -1)[0])\n"
   ]
  }
 ],
 "metadata": {
  "kernelspec": {
   "display_name": "Python 3",
   "language": "python",
   "name": "python3"
  },
  "language_info": {
   "codemirror_mode": {
    "name": "ipython",
    "version": 3
   },
   "file_extension": ".py",
   "mimetype": "text/x-python",
   "name": "python",
   "nbconvert_exporter": "python",
   "pygments_lexer": "ipython3",
   "version": "3.6.8"
  }
 },
 "nbformat": 4,
 "nbformat_minor": 2
}
