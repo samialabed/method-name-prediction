{
 "cells": [
  {
   "cell_type": "code",
   "execution_count": 1,
   "metadata": {},
   "outputs": [],
   "source": [
    "%load_ext autoreload\n",
    "%matplotlib inline\n",
    "\n",
    "%autoreload 2\n",
    "\n",
    "# %load_ext watermark\n",
    "# %watermark -v -n -m -p numpy,scipy,sklearn,pandas,tensorflow,keras\n",
    "\n"
   ]
  },
  {
   "cell_type": "code",
   "execution_count": 2,
   "metadata": {
    "collapsed": false
   },
   "outputs": [
    {
     "name": "stdout",
     "output_type": "stream",
     "text": [
      "Failed to load data from path: data/raw/r252-corpus-features/org/elasticsearch/indices/recovery/RecoveryTargetHandler.java.proto. Exception: Failed to separate the method name and body from the token. Method tokens: [['void'], ['receive', 'file', 'info'], ['lparen'], ['list'], ['lt'], ['string'], ['gt'], ['phase', 'file', 'names'], ['comma'], ['list'], ['lt'], ['long'], ['gt'], ['phase', 'file', 'sizes'], ['comma'], ['list'], ['lt'], ['string'], ['gt'], ['phase', 'existing', 'file', 'names'], ['comma'], ['list'], ['lt'], ['long'], ['gt'], ['phase', 'existing', 'file', 'sizes'], ['comma'], ['int'], ['total', 'translog', 'ops'], ['rparen'], ['semi']]\n"
     ]
    },
    {
     "name": "stdout",
     "output_type": "stream",
     "text": [
      "Failed to load data from path: data/raw/r252-corpus-features/org/elasticsearch/index/mapper/ScaledFloatFieldMapper.java.proto. Exception: Failed to separate the method name and body from the token. Method tokens: [['public'], ['builder'], ['scaling', 'factor'], ['lparen'], ['double'], ['scaling', 'factor'], ['rparen'], ['lbrace'], ['lparen'], ['lparen'], ['scaled', 'float', 'field', 'type'], ['rparen'], ['field', 'type'], ['rparen'], ['dot'], ['set', 'scaling', 'factor'], ['lparen'], ['scaling', 'factor'], ['rparen'], ['semi'], ['scaling', 'factor', 'set'], ['eq'], ['true'], ['semi'], ['return'], ['this'], ['semi'], ['rbrace']]\n"
     ]
    },
    {
     "name": "stdout",
     "output_type": "stream",
     "text": [
      "Failed to load data from path: data/raw/r252-corpus-features/org/elasticsearch/indices/cluster/IndicesClusterStateService.java.proto. Exception: Failed to separate the method name and body from the token. Method tokens: [['void'], ['update', 'shard', 'state'], ['lparen'], ['shard', 'routing'], ['shard', 'routing'], ['comma'], ['long'], ['primary', 'term'], ['comma'], ['bi', 'consumer'], ['lt'], ['index', 'shard'], ['comma'], ['action', 'listener'], ['lt'], ['resync', 'task'], ['gtgt'], ['primary', 'replica', 'syncer'], ['comma'], ['long'], ['applying', 'cluster', 'state', 'version'], ['comma'], ['set'], ['lt'], ['string'], ['gt'], ['in', 'sync', 'allocation', 'ids'], ['comma'], ['index', 'shard', 'routing', 'table'], ['routing', 'table'], ['comma'], ['set'], ['lt'], ['string'], ['gt'], ['pre', 'allocation', 'ids'], ['rparen'], ['throws'], ['ioe', 'xception'], ['semi']]\n"
     ]
    }
   ],
   "source": [
    "from data.preprocess import PreProcessor\n",
    "\n",
    "# data = PreProcessor(config=PreProcessor.DEFAULT_CONFIG,\n",
    "#                     data_dir='data/raw/r252-corpus-features/org/elasticsearch/action/admin/')\n",
    "data = PreProcessor(config=PreProcessor.DEFAULT_CONFIG,\n",
    "                    data_dir='data/raw/r252-corpus-features/org/elasticsearch/')\n",
    "\n",
    "vocab = data.metadata['token_vocab']\n",
    "processed = data.get_tensorise_data()\n"
   ]
  },
  {
   "cell_type": "code",
   "execution_count": 4,
   "metadata": {
    "collapsed": false
   },
   "outputs": [
    {
     "name": "stdout",
     "output_type": "stream",
     "text": [
      "Vocab Size: 5002 Code snippet len: 17893 label_name len: 17893\nWARNING:tensorflow:From /home/samialab/anaconda3/envs/method-name-prediction/lib/python3.6/site-packages/tensorflow/python/ops/resource_variable_ops.py:435: colocate_with (from tensorflow.python.framework.ops) is deprecated and will be removed in a future version.\nInstructions for updating:\nColocations handled automatically by placer.\n"
     ]
    },
    {
     "name": "stdout",
     "output_type": "stream",
     "text": [
      "ConvAttention: Tokens shape = (1, 100, 128), h_t shape = (1, 8)\nAttentionFeatures: C shape = (1, 100, 128), h_t shape = (1, 8)\nAttentionFeatures: L_1 shape = (1, 100, 8)\nAttentionFeatures: L_2 shape = (1, 100, 8)\nAttentionFeatures: L_2 shape  after multiply = (1, 100, 8)\nAttentionFeatures: L_feat shape = (1, 100, 8)\nConvAttention: L_feat shape = (1, 100, 8)\nAttentionWeights: l_feat shape = (1, 100, 8)\nAttentionWeights: attention_weight shape = (1, 100, 1)\nConvAttention: alpha shape = (1, 100)\nConvAttention: n_hat shape = (1, 100)\nConvAttention: n shape = (1, 100, 5002)\nyPred: Tensor(\"loss/conv_attention_loss/mul_1:0\", shape=(1, 100, 5002), dtype=float32) \nyTrue: Tensor(\"loss/conv_attention_loss/mul:0\", shape=(?, ?, ?), dtype=float32)\nTrain on 14314 samples, validate on 3579 samples\n"
     ]
    },
    {
     "name": "stdout",
     "output_type": "stream",
     "text": [
      "WARNING:tensorflow:From /home/samialab/anaconda3/envs/method-name-prediction/lib/python3.6/site-packages/tensorflow/python/ops/math_ops.py:3066: to_int32 (from tensorflow.python.ops.math_ops) is deprecated and will be removed in a future version.\nInstructions for updating:\nUse tf.cast instead.\n"
     ]
    },
    {
     "name": "stdout",
     "output_type": "stream",
     "text": [
      "WARNING:tensorflow:From /home/samialab/anaconda3/envs/method-name-prediction/lib/python3.6/site-packages/tensorflow/python/ops/math_grad.py:102: div (from tensorflow.python.ops.math_ops) is deprecated and will be removed in a future version.\nInstructions for updating:\nDeprecated in favor of operator or tf.math.divide.\n"
     ]
    },
    {
     "name": "stdout",
     "output_type": "stream",
     "text": [
      "Epoch 1/50\n"
     ]
    }
   ],
   "source": [
    "import numpy as np\n",
    "import tensorflow as tf\n",
    "from tensorflow.python import keras\n",
    "from tensorflow.python.keras import layers\n",
    "\n",
    "from models.cnn_attention import ConvAttention\n",
    "from utils.activations import masked_sparse_cross_entropy_loss\n",
    "\n",
    "embedding_dim = 128\n",
    "vocabulary_size = len(vocab) + 2\n",
    "max_chunk_length = data.config['max_chunk_length']\n",
    "code_snippet = processed['body_tokens']\n",
    "# code_snippet = np.expand_dims(processed['body_tokens'], 0)\n",
    "# label_name = np.expand_dims(processed['name_tokens'], -1)\n",
    "label_name = processed['name_tokens']\n",
    "# label_name = keras.utils.to_categorical(processed['name_tokens'], num_classes=vocabulary_size)\n",
    "print(\"Vocab Size: {} Code snippet len: {} label_name len: {}\".format(vocabulary_size, len(code_snippet),\n",
    "                                                                      len(label_name)))\n",
    "\n",
    "# TODO make the input a json file and parse it\n",
    "batch_size = 1\n",
    "k1 = 8\n",
    "k2 = 8\n",
    "w1 = 24\n",
    "w2 = 29\n",
    "w3 = 10\n",
    "dropout_rate = 0.5\n",
    "\n",
    "# Optimised hyperparameter are reported in page 5 of the paper\n",
    "\n",
    "# define layers\n",
    "main_input = layers.Input(shape=(max_chunk_length,),\n",
    "                          batch_size=batch_size,\n",
    "                          dtype=tf.int32, name='main_input')\n",
    "\n",
    "cnn_layer = ConvAttention(vocabulary_size=vocabulary_size,\n",
    "                          embedding_dim=embedding_dim,\n",
    "                          max_chunk_length=max_chunk_length,\n",
    "                          k1=k1,\n",
    "                          k2=k2,\n",
    "                          w1=w1,\n",
    "                          w2=w2,\n",
    "                          w3=w3,\n",
    "                          dropout_rate=dropout_rate)\n",
    "\n",
    "optimizer = keras.optimizers.Nadam()  # RMSprop with Nesterov momentum\n",
    "loss_func = masked_sparse_cross_entropy_loss\n",
    "#loss_func =  keras.losses.sparse_categorical_crossentropy\n",
    "\n",
    "# define execution\n",
    "cnn_output = cnn_layer(main_input)\n",
    "model = keras.Model(inputs=[main_input], outputs=cnn_output)\n",
    "model.compile(optimizer=optimizer,\n",
    "              loss=loss_func,\n",
    "              # metrics=['sparse_categorical_accuracy'],\n",
    "              )\n",
    "# fit the model\n",
    "# tbCallBack = \n",
    "# keras.callbacks.TensorBoard(log_dir='./Graph', histogram_freq=0, write_graph=True, write_images=True)\n",
    "history = model.fit(code_snippet,\n",
    "                    label_name,\n",
    "                    epochs=50,\n",
    "                    verbose=2,\n",
    "                    batch_size=batch_size,\n",
    "                    # callbacks=[tbCallBack],\n",
    "                    validation_split=0.2)\n"
   ]
  },
  {
   "cell_type": "code",
   "execution_count": 29,
   "metadata": {
    "collapsed": false
   },
   "outputs": [
    {
     "data": {
      "image/png": "[encoded data removed]",
      "text/plain": [
       "<Figure size 432x288 with 1 Axes>"
      ]
     },
     "metadata": {},
     "output_type": "display_data"
    },
    {
     "data": {
      "image/png": "[encoded data removed]",
      "text/plain": [
       "<Figure size 432x288 with 1 Axes>"
      ]
     },
     "metadata": {},
     "output_type": "display_data"
    }
   ],
   "source": [
    "import matplotlib.pyplot as plt\n",
    "\n",
    "# Plot training & validation accuracy values\n",
    "plt.plot(history.history['acc'])\n",
    "plt.plot(history.history['val_acc'])\n",
    "plt.title('Model accuracy')\n",
    "plt.ylabel('Accuracy')\n",
    "plt.xlabel('Epoch')\n",
    "plt.legend(['Train', 'Test'], loc='upper left')\n",
    "plt.show()\n",
    "\n",
    "# Plot training & validation loss values\n",
    "plt.plot(history.history['loss'])\n",
    "plt.plot(history.history['val_loss'])\n",
    "plt.title('Model loss')\n",
    "plt.ylabel('Loss')\n",
    "plt.xlabel('Epoch')\n",
    "plt.legend(['Train', 'Test'], loc='upper left')\n",
    "plt.show()"
   ]
  },
  {
   "cell_type": "code",
   "execution_count": 6,
   "metadata": {
    "collapsed": false
   },
   "outputs": [
    {
     "name": "stdout",
     "output_type": "stream",
     "text": [
      "Accuracy: 166.93180203437805\n"
     ]
    }
   ],
   "source": [
    "# # overfit and evaluate the model \n",
    "loss, accuracy = model.evaluate(code_snippet, label_name, batch_size=1, verbose=0)\n",
    "print('Accuracy: {}'.format(accuracy * 100))\n"
   ]
  },
  {
   "cell_type": "code",
   "execution_count": 43,
   "metadata": {
    "collapsed": false
   },
   "outputs": [
    {
     "data": {
      "text/plain": [
       "['relocating',\n 'resolve',\n 'get',\n 'resolve',\n 'current',\n 'get',\n 'get',\n 'get',\n 'get',\n 'get',\n 'get',\n 'version',\n 'resolve',\n 'resolve',\n 'get',\n 'get',\n 'get',\n 'get',\n 'get',\n 'get',\n 'get',\n 'get',\n 'get',\n 'get',\n 'current',\n 'get',\n 'not',\n 'version',\n 'resolve',\n 'resolve',\n 'get',\n 'resolve',\n 'current',\n 'get',\n 'get',\n 'get',\n 'get',\n 'get',\n 'version',\n 'version',\n 'get',\n 'version',\n 'get',\n 'get',\n 'get',\n 'get',\n 'resolve',\n 'get',\n 'version',\n 'get',\n 'current',\n 'get',\n 'get',\n 'get',\n 'get',\n 'get',\n 'get',\n 'get',\n 'get',\n 'current',\n 'get',\n 'get',\n 'get',\n 'current',\n 'settings',\n 'get',\n 'resolve',\n 'get',\n 'current',\n 'get',\n 'get',\n 'get',\n 'get',\n 'get',\n 'get',\n 'get',\n 'version',\n 'get',\n 'get',\n 'version',\n 'get',\n 'resolve',\n 'get',\n 'get',\n 'resolve',\n 'get',\n 'resolve',\n 'get',\n 'get',\n 'version',\n 'get',\n 'current',\n 'get',\n 'get',\n 'get',\n 'get',\n 'get',\n 'get',\n 'get',\n 'get']"
      ]
     },
     "execution_count": 43,
     "metadata": {},
     "output_type": "execute_result"
    }
   ],
   "source": [
    "# translate prediction\n",
    "\n",
    "from data.utils import translate_tokenized_array_to_list_words\n",
    "\n",
    "\n",
    "# model.reset_states()\n",
    "prediction = model.predict(code_snippet[21].reshape(1, -1)[0][:].reshape(1, -1), steps=100)\n",
    "# translate_tokenized_array_to_list_words(vocab, label_name[7][0])\n",
    "translate_tokenized_array_to_list_words(vocab, prediction.argmax(2)[0])\n",
    "# print(prediction.argmax(2))\n"
   ]
  },
  {
   "cell_type": "code",
   "execution_count": 85,
   "metadata": {},
   "outputs": [
    {
     "data": {
      "text/plain": [
       "(1, 100)"
      ]
     },
     "execution_count": 85,
     "metadata": {},
     "output_type": "execute_result"
    }
   ],
   "source": [
    "model.predict(code_snippet[0].reshape(1, -1)).argmax(2).shape"
   ]
  },
  {
   "cell_type": "code",
   "execution_count": 80,
   "metadata": {},
   "outputs": [
    {
     "data": {
      "text/plain": [
       "100.00005"
      ]
     },
     "execution_count": 80,
     "metadata": {},
     "output_type": "execute_result"
    }
   ],
   "source": [
    "prediction.sum()"
   ]
  },
  {
   "cell_type": "code",
   "execution_count": 128,
   "metadata": {},
   "outputs": [
    {
     "data": {
      "text/plain": [
       "(518, 1, 100)"
      ]
     },
     "execution_count": 128,
     "metadata": {},
     "output_type": "execute_result"
    }
   ],
   "source": [
    "np.expand_dims(processed['name_tokens'], 1).shape"
   ]
  },
  {
   "cell_type": "code",
   "execution_count": 34,
   "metadata": {},
   "outputs": [
    {
     "data": {
      "text/plain": [
       "array([[ 20,   8,   4,  17,   9,   2,   3,   5,  14,  19,   2, 184,   6,\n          8,   4,  18,  22,   2,   3,   3,   5,  14,  19,   2,   9,   4,\n         48,  98,   6,   8,   4,  17,   9,   2,   3,   3,   5,  74, 149,\n         56,  12,  79,   5,   1,  80,  60,  49,  12, 185,  11,  53,   4,\n         95,   2,   3,   5,  87,   2,  80,  66,  12,  45,   5,  66,  86,\n         60,  49,   5,  66, 128,   3,  15,  34,  11,  22,  12,  75,  11,\n         10, 148,   2,   8,   3,   5,  13,  10,  13,  10,  12, 185,  11,\n         53,   4,  23,   2,  11,  22,   3,   5,  14]])"
      ]
     },
     "execution_count": 34,
     "metadata": {},
     "output_type": "execute_result"
    }
   ],
   "source": [
    "# Run model.reset_states() while generating predictions\n",
    "code_snippet[21].reshape(1, -1)[0][0:].reshape(1, -1)"
   ]
  },
  {
   "cell_type": "code",
   "execution_count": 42,
   "metadata": {},
   "outputs": [
    {
     "data": {
      "text/plain": [
       "array([ 99, 171,  23, 171,  18,  23,  23,  23,  23,  23,  23,  82, 171,\n       171,  23,  23,  23,  23,  23,  23,  23,  23,  23,  23,  18,  23,\n        55,  82, 171, 171,  23, 171,  18,  23,  23,  23,  23,  23,  82,\n        82,  23,  82,  23,  23,  23,  23, 171,  23,  82,  23,  18,  23,\n        23,  23,  23,  23,  23,  23,  23,  18,  23,  23,  23,  18, 112,\n        23, 171,  23,  18,  23,  23,  23,  23,  23,  23,  23,  82,  23,\n        23,  82,  23, 171,  23,  23, 171,  23, 171,  23,  23,  82,  23,\n        18,  23,  23,  23,  23,  23,  23,  23,  23])"
      ]
     },
     "execution_count": 42,
     "metadata": {},
     "output_type": "execute_result"
    }
   ],
   "source": [
    "prediction[0].argmin(1)"
   ]
  },
  {
   "cell_type": "code",
   "execution_count": 21,
   "metadata": {
    "collapsed": true
   },
   "outputs": [
    {
     "name": "stdout",
     "output_type": "stream",
     "text": [
      "(26, 100)\n(26, 100)\nConvAttention: Tokens shape = (1, 100, 128), h_t shape = (1, 8)\nAttentionFeatures: C shape = (1, 100, 128), h_t shape = (1, 8)\nAttentionFeatures: L_1 shape = (1, 100, 8)\nAttentionFeatures: L_2 shape = (1, 100, 8)\nAttentionFeatures: L_2 shape  after multiply = (1, 100, 8)\nAttentionFeatures: L_feat shape = (1, 100, 8)\nConvAttention: L_feat shape = (1, 100, 8)\nAttentionWeights: l_feat shape = (1, 100, 8)\nAttentionWeights: attention_weight shape = (1, 100, 1)\nConvAttention: alpha shape = (1, 100)\nConvAttention: n_hat shape = (1, 100)\nConvAttention: n shape = (1, 100, 191)\nLogits:  [[[5.9777009e-01 5.8181704e-05 2.9912908e-06 ... 2.4725914e-06\n   3.3647548e-06 3.8998460e-06]\n  [3.9564195e-01 7.0791319e-03 2.4199549e-03 ... 2.2008424e-03\n   2.3571230e-03 2.5163309e-03]\n  [1.9246221e-02 6.2858281e-03 5.0085140e-03 ... 4.9344958e-03\n   4.9549858e-03 5.0268038e-03]\n  ...\n  [9.5200855e-03 5.3483970e-03 5.1476466e-03 ... 5.1597916e-03\n   5.1457300e-03 5.1357392e-03]\n  [9.5200855e-03 5.3483970e-03 5.1476466e-03 ... 5.1597916e-03\n   5.1457300e-03 5.1357392e-03]\n  [9.5200855e-03 5.3483970e-03 5.1476466e-03 ... 5.1597916e-03\n   5.1457300e-03 5.1357392e-03]]]\n"
     ]
    }
   ],
   "source": [
    "code_snippet = processed['body_tokens']\n",
    "label_name = processed['name_tokens']\n",
    "dataset = tf.data.Dataset.from_tensor_slices((code_snippet, label_name))\n",
    "dataset = dataset.shuffle(1000).batch(32)\n",
    "\n",
    "for code_block, labels in dataset.take(1):\n",
    "    print(labels.shape)\n",
    "    print(code_block.shape)\n",
    "    print(\"Logits: \", model(code_block[0:1]).numpy())\n"
   ]
  },
  {
   "cell_type": "code",
   "execution_count": 20,
   "metadata": {},
   "outputs": [
    {
     "data": {
      "text/plain": [
       "<DatasetV1Adapter shapes: ((?, 100, 1), (?, 100)), types: (tf.float32, tf.int64)>"
      ]
     },
     "execution_count": 20,
     "metadata": {},
     "output_type": "execute_result"
    }
   ],
   "source": [
    "dataset"
   ]
  }
 ],
 "metadata": {
  "kernelspec": {
   "display_name": "Python 3",
   "language": "python",
   "name": "python3"
  },
  "language_info": {
   "codemirror_mode": {
    "name": "ipython",
    "version": 3
   },
   "file_extension": ".py",
   "mimetype": "text/x-python",
   "name": "python",
   "nbconvert_exporter": "python",
   "pygments_lexer": "ipython3",
   "version": "3.6.8"
  }
 },
 "nbformat": 4,
 "nbformat_minor": 2
}
